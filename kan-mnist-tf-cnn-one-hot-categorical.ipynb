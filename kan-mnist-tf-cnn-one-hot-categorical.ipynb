{
 "cells": [
  {
   "cell_type": "code",
   "execution_count": null,
   "id": "566022d6",
   "metadata": {
    "papermill": {
     "duration": 0.015881,
     "end_time": "2022-08-17T03:41:07.908342",
     "exception": false,
     "start_time": "2022-08-17T03:41:07.892461",
     "status": "completed"
    },
    "tags": []
   },
   "outputs": [],
   "source": []
  },
  {
   "cell_type": "code",
   "execution_count": 1,
   "id": "23926e9d",
   "metadata": {
    "_cell_guid": "b1076dfc-b9ad-4769-8c92-a6c4dae69d19",
    "_uuid": "8f2839f25d086af736a60e9eeb907d3b93b6e0e5",
    "execution": {
     "iopub.execute_input": "2022-08-17T03:41:07.938745Z",
     "iopub.status.busy": "2022-08-17T03:41:07.937999Z",
     "iopub.status.idle": "2022-08-17T03:41:07.953455Z",
     "shell.execute_reply": "2022-08-17T03:41:07.952090Z"
    },
    "papermill": {
     "duration": 0.034101,
     "end_time": "2022-08-17T03:41:07.956699",
     "exception": false,
     "start_time": "2022-08-17T03:41:07.922598",
     "status": "completed"
    },
    "tags": []
   },
   "outputs": [
    {
     "name": "stdout",
     "output_type": "stream",
     "text": [
      "/kaggle/input/Kannada-MNIST/sample_submission.csv\n",
      "/kaggle/input/Kannada-MNIST/Dig-MNIST.csv\n",
      "/kaggle/input/Kannada-MNIST/train.csv\n",
      "/kaggle/input/Kannada-MNIST/test.csv\n"
     ]
    }
   ],
   "source": [
    "# This Python 3 environment comes with many helpful analytics libraries installed\n",
    "# It is defined by the kaggle/python Docker image: https://github.com/kaggle/docker-python\n",
    "# For example, here's several helpful packages to load\n",
    "\n",
    "import numpy as np # linear algebra\n",
    "import pandas as pd # data processing, CSV file I/O (e.g. pd.read_csv)\n",
    "\n",
    "# Input data files are available in the read-only \"../input/\" directory\n",
    "# For example, running this (by clicking run or pressing Shift+Enter) will list all files under the input directory\n",
    "\n",
    "import os\n",
    "for dirname, _, filenames in os.walk('/kaggle/input'):\n",
    "    for filename in filenames:\n",
    "        print(os.path.join(dirname, filename))\n",
    "\n",
    "# You can write up to 20GB to the current directory (/kaggle/working/) that gets preserved as output when you create a version using \"Save & Run All\" \n",
    "# You can also write temporary files to /kaggle/temp/, but they won't be saved outside of the current session"
   ]
  },
  {
   "cell_type": "markdown",
   "id": "bfbfb029",
   "metadata": {
    "papermill": {
     "duration": 0.014191,
     "end_time": "2022-08-17T03:41:07.986829",
     "exception": false,
     "start_time": "2022-08-17T03:41:07.972638",
     "status": "completed"
    },
    "tags": []
   },
   "source": [
    "# Read Data"
   ]
  },
  {
   "cell_type": "code",
   "execution_count": 2,
   "id": "e784d187",
   "metadata": {
    "execution": {
     "iopub.execute_input": "2022-08-17T03:41:08.016765Z",
     "iopub.status.busy": "2022-08-17T03:41:08.016348Z",
     "iopub.status.idle": "2022-08-17T03:41:12.868036Z",
     "shell.execute_reply": "2022-08-17T03:41:12.867003Z"
    },
    "papermill": {
     "duration": 4.870069,
     "end_time": "2022-08-17T03:41:12.870667",
     "exception": false,
     "start_time": "2022-08-17T03:41:08.000598",
     "status": "completed"
    },
    "tags": []
   },
   "outputs": [
    {
     "data": {
      "text/html": [
       "<div>\n",
       "<style scoped>\n",
       "    .dataframe tbody tr th:only-of-type {\n",
       "        vertical-align: middle;\n",
       "    }\n",
       "\n",
       "    .dataframe tbody tr th {\n",
       "        vertical-align: top;\n",
       "    }\n",
       "\n",
       "    .dataframe thead th {\n",
       "        text-align: right;\n",
       "    }\n",
       "</style>\n",
       "<table border=\"1\" class=\"dataframe\">\n",
       "  <thead>\n",
       "    <tr style=\"text-align: right;\">\n",
       "      <th></th>\n",
       "      <th>label</th>\n",
       "      <th>pixel0</th>\n",
       "      <th>pixel1</th>\n",
       "      <th>pixel2</th>\n",
       "      <th>pixel3</th>\n",
       "      <th>pixel4</th>\n",
       "      <th>pixel5</th>\n",
       "      <th>pixel6</th>\n",
       "      <th>pixel7</th>\n",
       "      <th>pixel8</th>\n",
       "      <th>...</th>\n",
       "      <th>pixel774</th>\n",
       "      <th>pixel775</th>\n",
       "      <th>pixel776</th>\n",
       "      <th>pixel777</th>\n",
       "      <th>pixel778</th>\n",
       "      <th>pixel779</th>\n",
       "      <th>pixel780</th>\n",
       "      <th>pixel781</th>\n",
       "      <th>pixel782</th>\n",
       "      <th>pixel783</th>\n",
       "    </tr>\n",
       "  </thead>\n",
       "  <tbody>\n",
       "    <tr>\n",
       "      <th>0</th>\n",
       "      <td>0</td>\n",
       "      <td>0</td>\n",
       "      <td>0</td>\n",
       "      <td>0</td>\n",
       "      <td>0</td>\n",
       "      <td>0</td>\n",
       "      <td>0</td>\n",
       "      <td>0</td>\n",
       "      <td>0</td>\n",
       "      <td>0</td>\n",
       "      <td>...</td>\n",
       "      <td>0</td>\n",
       "      <td>0</td>\n",
       "      <td>0</td>\n",
       "      <td>0</td>\n",
       "      <td>0</td>\n",
       "      <td>0</td>\n",
       "      <td>0</td>\n",
       "      <td>0</td>\n",
       "      <td>0</td>\n",
       "      <td>0</td>\n",
       "    </tr>\n",
       "    <tr>\n",
       "      <th>1</th>\n",
       "      <td>1</td>\n",
       "      <td>0</td>\n",
       "      <td>0</td>\n",
       "      <td>0</td>\n",
       "      <td>0</td>\n",
       "      <td>0</td>\n",
       "      <td>0</td>\n",
       "      <td>0</td>\n",
       "      <td>0</td>\n",
       "      <td>0</td>\n",
       "      <td>...</td>\n",
       "      <td>0</td>\n",
       "      <td>0</td>\n",
       "      <td>0</td>\n",
       "      <td>0</td>\n",
       "      <td>0</td>\n",
       "      <td>0</td>\n",
       "      <td>0</td>\n",
       "      <td>0</td>\n",
       "      <td>0</td>\n",
       "      <td>0</td>\n",
       "    </tr>\n",
       "    <tr>\n",
       "      <th>2</th>\n",
       "      <td>2</td>\n",
       "      <td>0</td>\n",
       "      <td>0</td>\n",
       "      <td>0</td>\n",
       "      <td>0</td>\n",
       "      <td>0</td>\n",
       "      <td>0</td>\n",
       "      <td>0</td>\n",
       "      <td>0</td>\n",
       "      <td>0</td>\n",
       "      <td>...</td>\n",
       "      <td>0</td>\n",
       "      <td>0</td>\n",
       "      <td>0</td>\n",
       "      <td>0</td>\n",
       "      <td>0</td>\n",
       "      <td>0</td>\n",
       "      <td>0</td>\n",
       "      <td>0</td>\n",
       "      <td>0</td>\n",
       "      <td>0</td>\n",
       "    </tr>\n",
       "    <tr>\n",
       "      <th>3</th>\n",
       "      <td>3</td>\n",
       "      <td>0</td>\n",
       "      <td>0</td>\n",
       "      <td>0</td>\n",
       "      <td>0</td>\n",
       "      <td>0</td>\n",
       "      <td>0</td>\n",
       "      <td>0</td>\n",
       "      <td>0</td>\n",
       "      <td>0</td>\n",
       "      <td>...</td>\n",
       "      <td>0</td>\n",
       "      <td>0</td>\n",
       "      <td>0</td>\n",
       "      <td>0</td>\n",
       "      <td>0</td>\n",
       "      <td>0</td>\n",
       "      <td>0</td>\n",
       "      <td>0</td>\n",
       "      <td>0</td>\n",
       "      <td>0</td>\n",
       "    </tr>\n",
       "    <tr>\n",
       "      <th>4</th>\n",
       "      <td>4</td>\n",
       "      <td>0</td>\n",
       "      <td>0</td>\n",
       "      <td>0</td>\n",
       "      <td>0</td>\n",
       "      <td>0</td>\n",
       "      <td>0</td>\n",
       "      <td>0</td>\n",
       "      <td>0</td>\n",
       "      <td>0</td>\n",
       "      <td>...</td>\n",
       "      <td>0</td>\n",
       "      <td>0</td>\n",
       "      <td>0</td>\n",
       "      <td>0</td>\n",
       "      <td>0</td>\n",
       "      <td>0</td>\n",
       "      <td>0</td>\n",
       "      <td>0</td>\n",
       "      <td>0</td>\n",
       "      <td>0</td>\n",
       "    </tr>\n",
       "  </tbody>\n",
       "</table>\n",
       "<p>5 rows × 785 columns</p>\n",
       "</div>"
      ],
      "text/plain": [
       "   label  pixel0  pixel1  pixel2  pixel3  pixel4  pixel5  pixel6  pixel7  \\\n",
       "0      0       0       0       0       0       0       0       0       0   \n",
       "1      1       0       0       0       0       0       0       0       0   \n",
       "2      2       0       0       0       0       0       0       0       0   \n",
       "3      3       0       0       0       0       0       0       0       0   \n",
       "4      4       0       0       0       0       0       0       0       0   \n",
       "\n",
       "   pixel8  ...  pixel774  pixel775  pixel776  pixel777  pixel778  pixel779  \\\n",
       "0       0  ...         0         0         0         0         0         0   \n",
       "1       0  ...         0         0         0         0         0         0   \n",
       "2       0  ...         0         0         0         0         0         0   \n",
       "3       0  ...         0         0         0         0         0         0   \n",
       "4       0  ...         0         0         0         0         0         0   \n",
       "\n",
       "   pixel780  pixel781  pixel782  pixel783  \n",
       "0         0         0         0         0  \n",
       "1         0         0         0         0  \n",
       "2         0         0         0         0  \n",
       "3         0         0         0         0  \n",
       "4         0         0         0         0  \n",
       "\n",
       "[5 rows x 785 columns]"
      ]
     },
     "execution_count": 2,
     "metadata": {},
     "output_type": "execute_result"
    }
   ],
   "source": [
    "train_df =pd.read_csv('/kaggle/input/Kannada-MNIST/train.csv')\n",
    "train_df.head()"
   ]
  },
  {
   "cell_type": "markdown",
   "id": "0b089340",
   "metadata": {
    "papermill": {
     "duration": 0.01384,
     "end_time": "2022-08-17T03:41:12.898794",
     "exception": false,
     "start_time": "2022-08-17T03:41:12.884954",
     "status": "completed"
    },
    "tags": []
   },
   "source": [
    "# seperate label Convert to numpy and reshape"
   ]
  },
  {
   "cell_type": "code",
   "execution_count": 3,
   "id": "fff58e9b",
   "metadata": {
    "execution": {
     "iopub.execute_input": "2022-08-17T03:41:12.931417Z",
     "iopub.status.busy": "2022-08-17T03:41:12.930952Z",
     "iopub.status.idle": "2022-08-17T03:41:12.941616Z",
     "shell.execute_reply": "2022-08-17T03:41:12.940566Z"
    },
    "papermill": {
     "duration": 0.032299,
     "end_time": "2022-08-17T03:41:12.945803",
     "exception": false,
     "start_time": "2022-08-17T03:41:12.913504",
     "status": "completed"
    },
    "tags": []
   },
   "outputs": [
    {
     "data": {
      "text/plain": [
       "(60000,)"
      ]
     },
     "execution_count": 3,
     "metadata": {},
     "output_type": "execute_result"
    }
   ],
   "source": [
    "y=train_df['label']\n",
    "y= y.to_numpy()\n",
    "y.shape"
   ]
  },
  {
   "cell_type": "code",
   "execution_count": 4,
   "id": "7e7684d1",
   "metadata": {
    "execution": {
     "iopub.execute_input": "2022-08-17T03:41:12.991349Z",
     "iopub.status.busy": "2022-08-17T03:41:12.989951Z",
     "iopub.status.idle": "2022-08-17T03:41:13.010952Z",
     "shell.execute_reply": "2022-08-17T03:41:13.009682Z"
    },
    "papermill": {
     "duration": 0.044361,
     "end_time": "2022-08-17T03:41:13.013640",
     "exception": false,
     "start_time": "2022-08-17T03:41:12.969279",
     "status": "completed"
    },
    "tags": []
   },
   "outputs": [
    {
     "data": {
      "text/html": [
       "<div>\n",
       "<style scoped>\n",
       "    .dataframe tbody tr th:only-of-type {\n",
       "        vertical-align: middle;\n",
       "    }\n",
       "\n",
       "    .dataframe tbody tr th {\n",
       "        vertical-align: top;\n",
       "    }\n",
       "\n",
       "    .dataframe thead th {\n",
       "        text-align: right;\n",
       "    }\n",
       "</style>\n",
       "<table border=\"1\" class=\"dataframe\">\n",
       "  <thead>\n",
       "    <tr style=\"text-align: right;\">\n",
       "      <th></th>\n",
       "      <th>pixel0</th>\n",
       "      <th>pixel1</th>\n",
       "      <th>pixel2</th>\n",
       "      <th>pixel3</th>\n",
       "      <th>pixel4</th>\n",
       "      <th>pixel5</th>\n",
       "      <th>pixel6</th>\n",
       "      <th>pixel7</th>\n",
       "      <th>pixel8</th>\n",
       "      <th>pixel9</th>\n",
       "      <th>...</th>\n",
       "      <th>pixel774</th>\n",
       "      <th>pixel775</th>\n",
       "      <th>pixel776</th>\n",
       "      <th>pixel777</th>\n",
       "      <th>pixel778</th>\n",
       "      <th>pixel779</th>\n",
       "      <th>pixel780</th>\n",
       "      <th>pixel781</th>\n",
       "      <th>pixel782</th>\n",
       "      <th>pixel783</th>\n",
       "    </tr>\n",
       "  </thead>\n",
       "  <tbody>\n",
       "    <tr>\n",
       "      <th>0</th>\n",
       "      <td>0</td>\n",
       "      <td>0</td>\n",
       "      <td>0</td>\n",
       "      <td>0</td>\n",
       "      <td>0</td>\n",
       "      <td>0</td>\n",
       "      <td>0</td>\n",
       "      <td>0</td>\n",
       "      <td>0</td>\n",
       "      <td>0</td>\n",
       "      <td>...</td>\n",
       "      <td>0</td>\n",
       "      <td>0</td>\n",
       "      <td>0</td>\n",
       "      <td>0</td>\n",
       "      <td>0</td>\n",
       "      <td>0</td>\n",
       "      <td>0</td>\n",
       "      <td>0</td>\n",
       "      <td>0</td>\n",
       "      <td>0</td>\n",
       "    </tr>\n",
       "    <tr>\n",
       "      <th>1</th>\n",
       "      <td>0</td>\n",
       "      <td>0</td>\n",
       "      <td>0</td>\n",
       "      <td>0</td>\n",
       "      <td>0</td>\n",
       "      <td>0</td>\n",
       "      <td>0</td>\n",
       "      <td>0</td>\n",
       "      <td>0</td>\n",
       "      <td>0</td>\n",
       "      <td>...</td>\n",
       "      <td>0</td>\n",
       "      <td>0</td>\n",
       "      <td>0</td>\n",
       "      <td>0</td>\n",
       "      <td>0</td>\n",
       "      <td>0</td>\n",
       "      <td>0</td>\n",
       "      <td>0</td>\n",
       "      <td>0</td>\n",
       "      <td>0</td>\n",
       "    </tr>\n",
       "    <tr>\n",
       "      <th>2</th>\n",
       "      <td>0</td>\n",
       "      <td>0</td>\n",
       "      <td>0</td>\n",
       "      <td>0</td>\n",
       "      <td>0</td>\n",
       "      <td>0</td>\n",
       "      <td>0</td>\n",
       "      <td>0</td>\n",
       "      <td>0</td>\n",
       "      <td>0</td>\n",
       "      <td>...</td>\n",
       "      <td>0</td>\n",
       "      <td>0</td>\n",
       "      <td>0</td>\n",
       "      <td>0</td>\n",
       "      <td>0</td>\n",
       "      <td>0</td>\n",
       "      <td>0</td>\n",
       "      <td>0</td>\n",
       "      <td>0</td>\n",
       "      <td>0</td>\n",
       "    </tr>\n",
       "    <tr>\n",
       "      <th>3</th>\n",
       "      <td>0</td>\n",
       "      <td>0</td>\n",
       "      <td>0</td>\n",
       "      <td>0</td>\n",
       "      <td>0</td>\n",
       "      <td>0</td>\n",
       "      <td>0</td>\n",
       "      <td>0</td>\n",
       "      <td>0</td>\n",
       "      <td>0</td>\n",
       "      <td>...</td>\n",
       "      <td>0</td>\n",
       "      <td>0</td>\n",
       "      <td>0</td>\n",
       "      <td>0</td>\n",
       "      <td>0</td>\n",
       "      <td>0</td>\n",
       "      <td>0</td>\n",
       "      <td>0</td>\n",
       "      <td>0</td>\n",
       "      <td>0</td>\n",
       "    </tr>\n",
       "    <tr>\n",
       "      <th>4</th>\n",
       "      <td>0</td>\n",
       "      <td>0</td>\n",
       "      <td>0</td>\n",
       "      <td>0</td>\n",
       "      <td>0</td>\n",
       "      <td>0</td>\n",
       "      <td>0</td>\n",
       "      <td>0</td>\n",
       "      <td>0</td>\n",
       "      <td>0</td>\n",
       "      <td>...</td>\n",
       "      <td>0</td>\n",
       "      <td>0</td>\n",
       "      <td>0</td>\n",
       "      <td>0</td>\n",
       "      <td>0</td>\n",
       "      <td>0</td>\n",
       "      <td>0</td>\n",
       "      <td>0</td>\n",
       "      <td>0</td>\n",
       "      <td>0</td>\n",
       "    </tr>\n",
       "  </tbody>\n",
       "</table>\n",
       "<p>5 rows × 784 columns</p>\n",
       "</div>"
      ],
      "text/plain": [
       "   pixel0  pixel1  pixel2  pixel3  pixel4  pixel5  pixel6  pixel7  pixel8  \\\n",
       "0       0       0       0       0       0       0       0       0       0   \n",
       "1       0       0       0       0       0       0       0       0       0   \n",
       "2       0       0       0       0       0       0       0       0       0   \n",
       "3       0       0       0       0       0       0       0       0       0   \n",
       "4       0       0       0       0       0       0       0       0       0   \n",
       "\n",
       "   pixel9  ...  pixel774  pixel775  pixel776  pixel777  pixel778  pixel779  \\\n",
       "0       0  ...         0         0         0         0         0         0   \n",
       "1       0  ...         0         0         0         0         0         0   \n",
       "2       0  ...         0         0         0         0         0         0   \n",
       "3       0  ...         0         0         0         0         0         0   \n",
       "4       0  ...         0         0         0         0         0         0   \n",
       "\n",
       "   pixel780  pixel781  pixel782  pixel783  \n",
       "0         0         0         0         0  \n",
       "1         0         0         0         0  \n",
       "2         0         0         0         0  \n",
       "3         0         0         0         0  \n",
       "4         0         0         0         0  \n",
       "\n",
       "[5 rows x 784 columns]"
      ]
     },
     "execution_count": 4,
     "metadata": {},
     "output_type": "execute_result"
    }
   ],
   "source": [
    "x=train_df.iloc[:,1:]\n",
    "x.head()"
   ]
  },
  {
   "cell_type": "code",
   "execution_count": 5,
   "id": "f46e6c89",
   "metadata": {
    "execution": {
     "iopub.execute_input": "2022-08-17T03:41:13.055068Z",
     "iopub.status.busy": "2022-08-17T03:41:13.054017Z",
     "iopub.status.idle": "2022-08-17T03:41:13.063438Z",
     "shell.execute_reply": "2022-08-17T03:41:13.061811Z"
    },
    "papermill": {
     "duration": 0.033315,
     "end_time": "2022-08-17T03:41:13.066543",
     "exception": false,
     "start_time": "2022-08-17T03:41:13.033228",
     "status": "completed"
    },
    "tags": []
   },
   "outputs": [
    {
     "name": "stdout",
     "output_type": "stream",
     "text": [
      "x shape (60000, 784)\n",
      "x shape (60000, 28, 28)\n"
     ]
    }
   ],
   "source": [
    "x=x.to_numpy()\n",
    "print ('x shape',x.shape)\n",
    "x=x.reshape(x.shape[0],28,28)\n",
    "print ('x shape',x.shape)"
   ]
  },
  {
   "cell_type": "markdown",
   "id": "76cf52ec",
   "metadata": {
    "papermill": {
     "duration": 0.014829,
     "end_time": "2022-08-17T03:41:13.095930",
     "exception": false,
     "start_time": "2022-08-17T03:41:13.081101",
     "status": "completed"
    },
    "tags": []
   },
   "source": [
    "# Explore few images"
   ]
  },
  {
   "cell_type": "code",
   "execution_count": 6,
   "id": "d974af92",
   "metadata": {
    "execution": {
     "iopub.execute_input": "2022-08-17T03:41:13.127630Z",
     "iopub.status.busy": "2022-08-17T03:41:13.127244Z",
     "iopub.status.idle": "2022-08-17T03:41:14.103203Z",
     "shell.execute_reply": "2022-08-17T03:41:14.102300Z"
    },
    "papermill": {
     "duration": 0.994901,
     "end_time": "2022-08-17T03:41:14.105750",
     "exception": false,
     "start_time": "2022-08-17T03:41:13.110849",
     "status": "completed"
    },
    "tags": []
   },
   "outputs": [
    {
     "data": {
      "image/png": "[encoded data removed]",
      "text/plain": [
       "<Figure size 432x288 with 1 Axes>"
      ]
     },
     "metadata": {
      "needs_background": "light"
     },
     "output_type": "display_data"
    },
    {
     "data": {
      "image/png": "[encoded data removed]",
      "text/plain": [
       "<Figure size 432x288 with 1 Axes>"
      ]
     },
     "metadata": {
      "needs_background": "light"
     },
     "output_type": "display_data"
    },
    {
     "data": {
      "image/png": "[encoded data removed]",
      "text/plain": [
       "<Figure size 432x288 with 1 Axes>"
      ]
     },
     "metadata": {
      "needs_background": "light"
     },
     "output_type": "display_data"
    },
    {
     "data": {
      "image/png": "[encoded data removed]",
      "text/plain": [
       "<Figure size 432x288 with 1 Axes>"
      ]
     },
     "metadata": {
      "needs_background": "light"
     },
     "output_type": "display_data"
    },
    {
     "data": {
      "image/png": "[encoded data removed]",
      "text/plain": [
       "<Figure size 432x288 with 1 Axes>"
      ]
     },
     "metadata": {
      "needs_background": "light"
     },
     "output_type": "display_data"
    }
   ],
   "source": [
    "%matplotlib inline\n",
    "from matplotlib import pyplot as plt\n",
    "for i in range(10,15):\n",
    "    img = x[i]\n",
    "    plt.imshow(img)\n",
    "    plt.show()"
   ]
  },
  {
   "cell_type": "markdown",
   "id": "c808c162",
   "metadata": {
    "papermill": {
     "duration": 0.015437,
     "end_time": "2022-08-17T03:41:14.137340",
     "exception": false,
     "start_time": "2022-08-17T03:41:14.121903",
     "status": "completed"
    },
    "tags": []
   },
   "source": [
    "# one hot encoding of labels"
   ]
  },
  {
   "cell_type": "code",
   "execution_count": 7,
   "id": "762a5acb",
   "metadata": {
    "execution": {
     "iopub.execute_input": "2022-08-17T03:41:14.170758Z",
     "iopub.status.busy": "2022-08-17T03:41:14.169707Z",
     "iopub.status.idle": "2022-08-17T03:41:15.321522Z",
     "shell.execute_reply": "2022-08-17T03:41:15.320328Z"
    },
    "papermill": {
     "duration": 1.171448,
     "end_time": "2022-08-17T03:41:15.324070",
     "exception": false,
     "start_time": "2022-08-17T03:41:14.152622",
     "status": "completed"
    },
    "tags": []
   },
   "outputs": [],
   "source": [
    "from sklearn.preprocessing import OneHotEncoder"
   ]
  },
  {
   "cell_type": "code",
   "execution_count": 8,
   "id": "6aa65fc4",
   "metadata": {
    "execution": {
     "iopub.execute_input": "2022-08-17T03:41:15.362670Z",
     "iopub.status.busy": "2022-08-17T03:41:15.362262Z",
     "iopub.status.idle": "2022-08-17T03:41:15.370374Z",
     "shell.execute_reply": "2022-08-17T03:41:15.369142Z"
    },
    "papermill": {
     "duration": 0.032286,
     "end_time": "2022-08-17T03:41:15.372696",
     "exception": false,
     "start_time": "2022-08-17T03:41:15.340410",
     "status": "completed"
    },
    "tags": []
   },
   "outputs": [
    {
     "name": "stdout",
     "output_type": "stream",
     "text": [
      "[0 1 2 ... 7 8 9]\n",
      "(60000,)\n"
     ]
    }
   ],
   "source": [
    "print (y)\n",
    "print (y.shape)"
   ]
  },
  {
   "cell_type": "code",
   "execution_count": 9,
   "id": "e2b2968c",
   "metadata": {
    "execution": {
     "iopub.execute_input": "2022-08-17T03:41:15.405871Z",
     "iopub.status.busy": "2022-08-17T03:41:15.404900Z",
     "iopub.status.idle": "2022-08-17T03:41:15.411603Z",
     "shell.execute_reply": "2022-08-17T03:41:15.410191Z"
    },
    "papermill": {
     "duration": 0.025829,
     "end_time": "2022-08-17T03:41:15.414040",
     "exception": false,
     "start_time": "2022-08-17T03:41:15.388211",
     "status": "completed"
    },
    "tags": []
   },
   "outputs": [
    {
     "data": {
      "text/plain": [
       "3"
      ]
     },
     "execution_count": 9,
     "metadata": {},
     "output_type": "execute_result"
    }
   ],
   "source": [
    "y[123]"
   ]
  },
  {
   "cell_type": "code",
   "execution_count": 10,
   "id": "7282107d",
   "metadata": {
    "execution": {
     "iopub.execute_input": "2022-08-17T03:41:15.446811Z",
     "iopub.status.busy": "2022-08-17T03:41:15.446380Z",
     "iopub.status.idle": "2022-08-17T03:41:15.452581Z",
     "shell.execute_reply": "2022-08-17T03:41:15.451622Z"
    },
    "papermill": {
     "duration": 0.025787,
     "end_time": "2022-08-17T03:41:15.455390",
     "exception": false,
     "start_time": "2022-08-17T03:41:15.429603",
     "status": "completed"
    },
    "tags": []
   },
   "outputs": [
    {
     "name": "stdout",
     "output_type": "stream",
     "text": [
      "[[0]\n",
      " [1]\n",
      " [2]\n",
      " ...\n",
      " [7]\n",
      " [8]\n",
      " [9]]\n",
      "(60000, 1)\n"
     ]
    }
   ],
   "source": [
    "array_y = y.reshape(y.shape[0],1)\n",
    "print (array_y)\n",
    "print (array_y.shape)"
   ]
  },
  {
   "cell_type": "code",
   "execution_count": 11,
   "id": "3f807420",
   "metadata": {
    "execution": {
     "iopub.execute_input": "2022-08-17T03:41:15.490511Z",
     "iopub.status.busy": "2022-08-17T03:41:15.489340Z",
     "iopub.status.idle": "2022-08-17T03:41:15.496979Z",
     "shell.execute_reply": "2022-08-17T03:41:15.495829Z"
    },
    "papermill": {
     "duration": 0.028785,
     "end_time": "2022-08-17T03:41:15.500185",
     "exception": false,
     "start_time": "2022-08-17T03:41:15.471400",
     "status": "completed"
    },
    "tags": []
   },
   "outputs": [
    {
     "data": {
      "text/plain": [
       "3"
      ]
     },
     "execution_count": 11,
     "metadata": {},
     "output_type": "execute_result"
    }
   ],
   "source": [
    "y[123]"
   ]
  },
  {
   "cell_type": "code",
   "execution_count": 12,
   "id": "f7ea46e7",
   "metadata": {
    "execution": {
     "iopub.execute_input": "2022-08-17T03:41:15.535379Z",
     "iopub.status.busy": "2022-08-17T03:41:15.534647Z",
     "iopub.status.idle": "2022-08-17T03:41:15.549821Z",
     "shell.execute_reply": "2022-08-17T03:41:15.547717Z"
    },
    "papermill": {
     "duration": 0.036073,
     "end_time": "2022-08-17T03:41:15.552582",
     "exception": false,
     "start_time": "2022-08-17T03:41:15.516509",
     "status": "completed"
    },
    "tags": []
   },
   "outputs": [
    {
     "name": "stdout",
     "output_type": "stream",
     "text": [
      "encoded_y [[1. 0. 0. ... 0. 0. 0.]\n",
      " [0. 1. 0. ... 0. 0. 0.]\n",
      " [0. 0. 1. ... 0. 0. 0.]\n",
      " ...\n",
      " [0. 0. 0. ... 1. 0. 0.]\n",
      " [0. 0. 0. ... 0. 1. 0.]\n",
      " [0. 0. 0. ... 0. 0. 1.]]\n",
      "encoded_y shape (60000, 10)\n",
      "[array([0, 1, 2, 3, 4, 5, 6, 7, 8, 9])]\n"
     ]
    }
   ],
   "source": [
    "o = OneHotEncoder()\n",
    "encoded_y = o.fit_transform(array_y).toarray()\n",
    "print ('encoded_y',encoded_y)\n",
    "print ('encoded_y shape',encoded_y.shape)\n",
    "\n",
    "print (o.categories_)"
   ]
  },
  {
   "cell_type": "code",
   "execution_count": 13,
   "id": "3436de07",
   "metadata": {
    "execution": {
     "iopub.execute_input": "2022-08-17T03:41:15.585671Z",
     "iopub.status.busy": "2022-08-17T03:41:15.585252Z",
     "iopub.status.idle": "2022-08-17T03:41:15.593623Z",
     "shell.execute_reply": "2022-08-17T03:41:15.592289Z"
    },
    "papermill": {
     "duration": 0.027846,
     "end_time": "2022-08-17T03:41:15.596179",
     "exception": false,
     "start_time": "2022-08-17T03:41:15.568333",
     "status": "completed"
    },
    "tags": []
   },
   "outputs": [
    {
     "data": {
      "text/plain": [
       "array([0., 0., 0., 1., 0., 0., 0., 0., 0., 0.])"
      ]
     },
     "execution_count": 13,
     "metadata": {},
     "output_type": "execute_result"
    }
   ],
   "source": [
    "encoded_y[123]"
   ]
  },
  {
   "cell_type": "markdown",
   "id": "2fec6a94",
   "metadata": {
    "papermill": {
     "duration": 0.016001,
     "end_time": "2022-08-17T03:41:15.628242",
     "exception": false,
     "start_time": "2022-08-17T03:41:15.612241",
     "status": "completed"
    },
    "tags": []
   },
   "source": [
    "# Another way to one hot encode using keras"
   ]
  },
  {
   "cell_type": "code",
   "execution_count": 14,
   "id": "9f545559",
   "metadata": {
    "execution": {
     "iopub.execute_input": "2022-08-17T03:41:15.663260Z",
     "iopub.status.busy": "2022-08-17T03:41:15.662348Z",
     "iopub.status.idle": "2022-08-17T03:41:22.948840Z",
     "shell.execute_reply": "2022-08-17T03:41:22.947606Z"
    },
    "papermill": {
     "duration": 7.307324,
     "end_time": "2022-08-17T03:41:22.952220",
     "exception": false,
     "start_time": "2022-08-17T03:41:15.644896",
     "status": "completed"
    },
    "tags": []
   },
   "outputs": [],
   "source": [
    "from keras.utils.np_utils import to_categorical"
   ]
  },
  {
   "cell_type": "code",
   "execution_count": 15,
   "id": "3d964735",
   "metadata": {
    "execution": {
     "iopub.execute_input": "2022-08-17T03:41:22.990589Z",
     "iopub.status.busy": "2022-08-17T03:41:22.989842Z",
     "iopub.status.idle": "2022-08-17T03:41:22.998772Z",
     "shell.execute_reply": "2022-08-17T03:41:22.997327Z"
    },
    "papermill": {
     "duration": 0.031364,
     "end_time": "2022-08-17T03:41:23.002385",
     "exception": false,
     "start_time": "2022-08-17T03:41:22.971021",
     "status": "completed"
    },
    "tags": []
   },
   "outputs": [
    {
     "name": "stdout",
     "output_type": "stream",
     "text": [
      "keras_encoded_y.shape (60000, 10)\n",
      "[[1. 0. 0. ... 0. 0. 0.]\n",
      " [0. 1. 0. ... 0. 0. 0.]\n",
      " [0. 0. 1. ... 0. 0. 0.]\n",
      " ...\n",
      " [0. 0. 0. ... 1. 0. 0.]\n",
      " [0. 0. 0. ... 0. 1. 0.]\n",
      " [0. 0. 0. ... 0. 0. 1.]]\n"
     ]
    }
   ],
   "source": [
    "keras_encoded_y = to_categorical(y,10)\n",
    "print ('keras_encoded_y.shape',keras_encoded_y.shape)\n",
    "print (keras_encoded_y )"
   ]
  },
  {
   "cell_type": "code",
   "execution_count": 16,
   "id": "5c69045b",
   "metadata": {
    "execution": {
     "iopub.execute_input": "2022-08-17T03:41:23.040135Z",
     "iopub.status.busy": "2022-08-17T03:41:23.039586Z",
     "iopub.status.idle": "2022-08-17T03:41:23.046942Z",
     "shell.execute_reply": "2022-08-17T03:41:23.046059Z"
    },
    "papermill": {
     "duration": 0.029393,
     "end_time": "2022-08-17T03:41:23.049150",
     "exception": false,
     "start_time": "2022-08-17T03:41:23.019757",
     "status": "completed"
    },
    "tags": []
   },
   "outputs": [
    {
     "data": {
      "text/plain": [
       "array([0., 0., 0., 1., 0., 0., 0., 0., 0., 0.], dtype=float32)"
      ]
     },
     "execution_count": 16,
     "metadata": {},
     "output_type": "execute_result"
    }
   ],
   "source": [
    "keras_encoded_y[123]"
   ]
  },
  {
   "cell_type": "code",
   "execution_count": null,
   "id": "3ca2a148",
   "metadata": {
    "papermill": {
     "duration": 0.017336,
     "end_time": "2022-08-17T03:41:23.083890",
     "exception": false,
     "start_time": "2022-08-17T03:41:23.066554",
     "status": "completed"
    },
    "tags": []
   },
   "outputs": [],
   "source": []
  },
  {
   "cell_type": "markdown",
   "id": "5509784b",
   "metadata": {
    "papermill": {
     "duration": 0.01835,
     "end_time": "2022-08-17T03:41:23.121356",
     "exception": false,
     "start_time": "2022-08-17T03:41:23.103006",
     "status": "completed"
    },
    "tags": []
   },
   "source": [
    "# Normalize image"
   ]
  },
  {
   "cell_type": "code",
   "execution_count": 17,
   "id": "af1fb73c",
   "metadata": {
    "execution": {
     "iopub.execute_input": "2022-08-17T03:41:23.158785Z",
     "iopub.status.busy": "2022-08-17T03:41:23.157317Z",
     "iopub.status.idle": "2022-08-17T03:41:23.165521Z",
     "shell.execute_reply": "2022-08-17T03:41:23.163236Z"
    },
    "papermill": {
     "duration": 0.030543,
     "end_time": "2022-08-17T03:41:23.169257",
     "exception": false,
     "start_time": "2022-08-17T03:41:23.138714",
     "status": "completed"
    },
    "tags": []
   },
   "outputs": [
    {
     "name": "stdout",
     "output_type": "stream",
     "text": [
      "x shape (60000, 28, 28)\n"
     ]
    }
   ],
   "source": [
    "\n",
    "print ('x shape',x.shape)"
   ]
  },
  {
   "cell_type": "code",
   "execution_count": 18,
   "id": "4aa93227",
   "metadata": {
    "execution": {
     "iopub.execute_input": "2022-08-17T03:41:23.207901Z",
     "iopub.status.busy": "2022-08-17T03:41:23.207141Z",
     "iopub.status.idle": "2022-08-17T03:41:23.217082Z",
     "shell.execute_reply": "2022-08-17T03:41:23.215825Z"
    },
    "papermill": {
     "duration": 0.031626,
     "end_time": "2022-08-17T03:41:23.219627",
     "exception": false,
     "start_time": "2022-08-17T03:41:23.188001",
     "status": "completed"
    },
    "tags": []
   },
   "outputs": [
    {
     "data": {
      "text/plain": [
       "array([[  0,   0,   0,   0,   0,   0,   0,   0,   0,   0,   0,   0,   0,\n",
       "          0,   0,   0,   0,   0,   0,   0,   0,   0,   0,   0,   0,   0,\n",
       "          0,   0],\n",
       "       [  0,   0,   0,   0,   0,   0,   0,   0,   0,   0,   0,   0,   0,\n",
       "          0,   0,   0,   0,   0,   0,   0,   0,   0,   0,   0,   0,   0,\n",
       "          0,   0],\n",
       "       [  0,   0,   0,   0,   0,   0,   0,   0,   0,   0,   0,   0,   0,\n",
       "          0,   0,   0,   0,   0,   0,   0,   0,   0,   0,   0,   0,   0,\n",
       "          0,   0],\n",
       "       [  0,   0,   0,   0,   0,   0,   0,   0,   0,   0,   0,   0,   0,\n",
       "          0,   0,   0,   0,   0,   0,   0,   0,   0,   0,   0,   0,   0,\n",
       "          0,   0],\n",
       "       [  0,   0,   0,   0,   0,   0,   0,   0,   0,   0,   0,   0,   0,\n",
       "          0,   0,   0,   0,   0,   0,   0,   0,   0,   0,   0,   0,   0,\n",
       "          0,   0],\n",
       "       [  0,   0,   0,   0,   0,   0,   0,   0,   0,   0,   0,   0,   0,\n",
       "          0,   0,   0,   0,   0,   0,   0,   0,   0,   0,   0,   0,   0,\n",
       "          0,   0],\n",
       "       [  0,   0,   0,   0,   0,   0,   0,   0,   0,   0,   0,   0,   0,\n",
       "          0,   6, 255, 255,   6,   0,   0,   0,   0,   0,   0,   0,   0,\n",
       "          0,   0],\n",
       "       [  0,   0,   0,   0,   0,   0,   0,   0,   0,   0,   0,   0,   0,\n",
       "         19, 255, 236, 236, 255,   0,   0,   0,   0,   0,   0,   0,   0,\n",
       "          0,   0],\n",
       "       [  0,   0,   0,   0,   0,   0,   0,   0,   0,   0,   0,   0,   0,\n",
       "        255, 255,   0,   0, 223,  32,   0,   0,   0,   0,   0,   0,   0,\n",
       "          0,   0],\n",
       "       [  0,   0,   0,   0,   0,   0,   0,   0,   0,   0,   0,   0,  45,\n",
       "        255, 210,   0,   0,   0, 255,   0,   0,   0,   0,   0,   0,   0,\n",
       "          0,   0],\n",
       "       [  0,   0,   0,   0,   0,   0,   0,   0,   0,   0,   0,   0, 255,\n",
       "        198,   0,   0,   0,   0, 255,   0,   0,   0,   0,   0,   0,   0,\n",
       "          0,   0],\n",
       "       [  0,   0,   0,   0,   0,   0,   0,   0,   0,   0,   0,  70, 255,\n",
       "          0,   0,   0,   0,   0, 255,   0,   0,   0,   0,   0,   0,   0,\n",
       "          0,   0],\n",
       "       [  0,   0,   0,   0,   0,   0,   0,   0,   0,   0,   0, 255, 172,\n",
       "          0,   0,   0,   0,   0, 255,  83,   0,   0,   0,   0,   0,   0,\n",
       "          0,   0],\n",
       "       [  0,   0,   0,   0,   0,   0,   0,   0,   0,   0,   0, 255,   0,\n",
       "          0,   0,   0,   0,   0, 255, 255,   0,   0,   0,   0,   0,   0,\n",
       "          0,   0],\n",
       "       [  0,   0,   0,   0,   0,   0,   0,   0,   0,   0,   0, 255,   0,\n",
       "          0,   0,   0,   0,   0, 255, 255,   0,   0,   0,   0,   0,   0,\n",
       "          0,   0],\n",
       "       [  0,   0,   0,   0,   0,   0,   0,   0,   0,   0, 121, 134,   0,\n",
       "          0,   0,   0,   0,   0, 255, 255,   0,   0,   0,   0,   0,   0,\n",
       "          0,   0],\n",
       "       [  0,   0,   0,   0,   0,   0,   0,   0,   0,   0, 255,   0,   0,\n",
       "          0,   0,   0,   0,   0, 255, 121,   0,   0,   0,   0,   0,   0,\n",
       "          0,   0],\n",
       "       [  0,   0,   0,   0,   0,   0,   0,   0,   0,   0, 255,   0,   0,\n",
       "          0,   0,   0,   0,   0, 255,   0,   0,   0,   0,   0,   0,   0,\n",
       "          0,   0],\n",
       "       [  0,   0,   0,   0,   0,   0,   0,   0,   0,   0, 255,   0,   0,\n",
       "          0,   0,   0,   0,   0, 255,   0,   0,   0,   0,   0,   0,   0,\n",
       "          0,   0],\n",
       "       [  0,   0,   0,   0,   0,   0,   0,   0,   0,   0, 255,   0,   0,\n",
       "          0,   0,   0,   0,   0, 255,   0,   0,   0,   0,   0,   0,   0,\n",
       "          0,   0],\n",
       "       [  0,   0,   0,   0,   0,   0,   0,   0,   0,   0, 255,   0,   0,\n",
       "          0,   0,   0,   0,   0, 255,   0,   0,   0,   0,   0,   0,   0,\n",
       "          0,   0],\n",
       "       [  0,   0,   0,   0,   0,   0,   0,   0,   0,   0, 255,   0,   0,\n",
       "          0,   0,   0,   0,   0, 255,   0,   0,   0,   0,   0,   0,   0,\n",
       "          0,   0],\n",
       "       [  0,   0,   0,   0,   0,   0,   0,   0,   0,   0, 255, 210,   0,\n",
       "          0,   0,   0,   0,   0,  45,   0,   0,   0,   0,   0,   0,   0,\n",
       "          0,   0],\n",
       "       [  0,   0,   0,   0,   0,   0,   0,   0,   0,   0,  32, 255,   0,\n",
       "          0,   0,   0,   0,   0,   0,   0,   0,   0,   0,   0,   0,   0,\n",
       "          0,   0],\n",
       "       [  0,   0,   0,   0,   0,   0,   0,   0,   0,   0,   0, 255,   0,\n",
       "          0,   0,   0,   0,   0,   0,   0,   0,   0,   0,   0,   0,   0,\n",
       "          0,   0],\n",
       "       [  0,   0,   0,   0,   0,   0,   0,   0,   0,   0,   0,   6, 249,\n",
       "          0,   0,   0,   0,   0,   0,   0,   0,   0,   0,   0,   0,   0,\n",
       "          0,   0],\n",
       "       [  0,   0,   0,   0,   0,   0,   0,   0,   0,   0,   0,   0,   0,\n",
       "          0,   0,   0,   0,   0,   0,   0,   0,   0,   0,   0,   0,   0,\n",
       "          0,   0],\n",
       "       [  0,   0,   0,   0,   0,   0,   0,   0,   0,   0,   0,   0,   0,\n",
       "          0,   0,   0,   0,   0,   0,   0,   0,   0,   0,   0,   0,   0,\n",
       "          0,   0]])"
      ]
     },
     "execution_count": 18,
     "metadata": {},
     "output_type": "execute_result"
    }
   ],
   "source": [
    "x[1]"
   ]
  },
  {
   "cell_type": "code",
   "execution_count": 19,
   "id": "253cb78d",
   "metadata": {
    "execution": {
     "iopub.execute_input": "2022-08-17T03:41:23.257426Z",
     "iopub.status.busy": "2022-08-17T03:41:23.256655Z",
     "iopub.status.idle": "2022-08-17T03:41:23.264808Z",
     "shell.execute_reply": "2022-08-17T03:41:23.263449Z"
    },
    "papermill": {
     "duration": 0.030674,
     "end_time": "2022-08-17T03:41:23.268162",
     "exception": false,
     "start_time": "2022-08-17T03:41:23.237488",
     "status": "completed"
    },
    "tags": []
   },
   "outputs": [
    {
     "data": {
      "text/plain": [
       "(60000, 784)"
      ]
     },
     "execution_count": 19,
     "metadata": {},
     "output_type": "execute_result"
    }
   ],
   "source": [
    "#sklearn can deal only with 2d arrays\n",
    "reshaped_x = x.reshape(x.shape[0],x.shape[1]*x.shape[2])\n",
    "reshaped_x.shape"
   ]
  },
  {
   "cell_type": "code",
   "execution_count": 20,
   "id": "ca9d2a67",
   "metadata": {
    "execution": {
     "iopub.execute_input": "2022-08-17T03:41:23.309588Z",
     "iopub.status.busy": "2022-08-17T03:41:23.309146Z",
     "iopub.status.idle": "2022-08-17T03:41:23.319447Z",
     "shell.execute_reply": "2022-08-17T03:41:23.318432Z"
    },
    "papermill": {
     "duration": 0.031994,
     "end_time": "2022-08-17T03:41:23.321727",
     "exception": false,
     "start_time": "2022-08-17T03:41:23.289733",
     "status": "completed"
    },
    "tags": []
   },
   "outputs": [
    {
     "data": {
      "text/plain": [
       "array([  0,   0,   0,   0,   0,   0,   0,   0,   0,   0,   0,   0,   0,\n",
       "         0,   0,   0,   0,   0,   0,   0,   0,   0,   0,   0,   0,   0,\n",
       "         0,   0,   0,   0,   0,   0,   0,   0,   0,   0,   0,   0,   0,\n",
       "         0,   0,   0,   0,   0,   0,   0,   0,   0,   0,   0,   0,   0,\n",
       "         0,   0,   0,   0,   0,   0,   0,   0,   0,   0,   0,   0,   0,\n",
       "         0,   0,   0,   0,   0,   0,   0,   0,   0,   0,   0,   0,   0,\n",
       "         0,   0,   0,   0,   0,   0,   0,   0,   0,   0,   0,   0,   0,\n",
       "         0,   0,   0,   0,   0,   0,   0,   0,   0,   0,   0,   0,   0,\n",
       "         0,   0,   0,   0,   0,   0,   0,   0,   0,   0,   0,   0,   0,\n",
       "         0,   0,   0,   0,   0,   0,   0,   0,   0,   0,   0,   0,   0,\n",
       "         0,   0,   0,   0,   0,   0,   0,   0,   0,   0,   0,   0,   0,\n",
       "         0,   0,   0,   0,   0,   0,   0,   0,   0,   0,   0,   0,   0,\n",
       "         0,   0,   0,   0,   0,   0,   0,   0,   0,   0,   0,   0,   0,\n",
       "         0,   0,   0,   0,   0,   0,   0,   0,   0,   0,   0,   0,   0,\n",
       "         6, 255, 255,   6,   0,   0,   0,   0,   0,   0,   0,   0,   0,\n",
       "         0,   0,   0,   0,   0,   0,   0,   0,   0,   0,   0,   0,   0,\n",
       "         0,  19, 255, 236, 236, 255,   0,   0,   0,   0,   0,   0,   0,\n",
       "         0,   0,   0,   0,   0,   0,   0,   0,   0,   0,   0,   0,   0,\n",
       "         0,   0,   0, 255, 255,   0,   0, 223,  32,   0,   0,   0,   0,\n",
       "         0,   0,   0,   0,   0,   0,   0,   0,   0,   0,   0,   0,   0,\n",
       "         0,   0,   0,   0,  45, 255, 210,   0,   0,   0, 255,   0,   0,\n",
       "         0,   0,   0,   0,   0,   0,   0,   0,   0,   0,   0,   0,   0,\n",
       "         0,   0,   0,   0,   0,   0, 255, 198,   0,   0,   0,   0, 255,\n",
       "         0,   0,   0,   0,   0,   0,   0,   0,   0,   0,   0,   0,   0,\n",
       "         0,   0,   0,   0,   0,   0,   0,  70, 255,   0,   0,   0,   0,\n",
       "         0, 255,   0,   0,   0,   0,   0,   0,   0,   0,   0,   0,   0,\n",
       "         0,   0,   0,   0,   0,   0,   0,   0,   0, 255, 172,   0,   0,\n",
       "         0,   0,   0, 255,  83,   0,   0,   0,   0,   0,   0,   0,   0,\n",
       "         0,   0,   0,   0,   0,   0,   0,   0,   0,   0,   0, 255,   0,\n",
       "         0,   0,   0,   0,   0, 255, 255,   0,   0,   0,   0,   0,   0,\n",
       "         0,   0,   0,   0,   0,   0,   0,   0,   0,   0,   0,   0,   0,\n",
       "       255,   0,   0,   0,   0,   0,   0, 255, 255,   0,   0,   0,   0,\n",
       "         0,   0,   0,   0,   0,   0,   0,   0,   0,   0,   0,   0,   0,\n",
       "         0, 121, 134,   0,   0,   0,   0,   0,   0, 255, 255,   0,   0,\n",
       "         0,   0,   0,   0,   0,   0,   0,   0,   0,   0,   0,   0,   0,\n",
       "         0,   0,   0, 255,   0,   0,   0,   0,   0,   0,   0, 255, 121,\n",
       "         0,   0,   0,   0,   0,   0,   0,   0,   0,   0,   0,   0,   0,\n",
       "         0,   0,   0,   0,   0, 255,   0,   0,   0,   0,   0,   0,   0,\n",
       "       255,   0,   0,   0,   0,   0,   0,   0,   0,   0,   0,   0,   0,\n",
       "         0,   0,   0,   0,   0,   0,   0, 255,   0,   0,   0,   0,   0,\n",
       "         0,   0, 255,   0,   0,   0,   0,   0,   0,   0,   0,   0,   0,\n",
       "         0,   0,   0,   0,   0,   0,   0,   0,   0, 255,   0,   0,   0,\n",
       "         0,   0,   0,   0, 255,   0,   0,   0,   0,   0,   0,   0,   0,\n",
       "         0,   0,   0,   0,   0,   0,   0,   0,   0,   0,   0, 255,   0,\n",
       "         0,   0,   0,   0,   0,   0, 255,   0,   0,   0,   0,   0,   0,\n",
       "         0,   0,   0,   0,   0,   0,   0,   0,   0,   0,   0,   0,   0,\n",
       "       255,   0,   0,   0,   0,   0,   0,   0, 255,   0,   0,   0,   0,\n",
       "         0,   0,   0,   0,   0,   0,   0,   0,   0,   0,   0,   0,   0,\n",
       "         0,   0, 255, 210,   0,   0,   0,   0,   0,   0,  45,   0,   0,\n",
       "         0,   0,   0,   0,   0,   0,   0,   0,   0,   0,   0,   0,   0,\n",
       "         0,   0,   0,   0,  32, 255,   0,   0,   0,   0,   0,   0,   0,\n",
       "         0,   0,   0,   0,   0,   0,   0,   0,   0,   0,   0,   0,   0,\n",
       "         0,   0,   0,   0,   0,   0,   0, 255,   0,   0,   0,   0,   0,\n",
       "         0,   0,   0,   0,   0,   0,   0,   0,   0,   0,   0,   0,   0,\n",
       "         0,   0,   0,   0,   0,   0,   0,   0,   0,   6, 249,   0,   0,\n",
       "         0,   0,   0,   0,   0,   0,   0,   0,   0,   0,   0,   0,   0,\n",
       "         0,   0,   0,   0,   0,   0,   0,   0,   0,   0,   0,   0,   0,\n",
       "         0,   0,   0,   0,   0,   0,   0,   0,   0,   0,   0,   0,   0,\n",
       "         0,   0,   0,   0,   0,   0,   0,   0,   0,   0,   0,   0,   0,\n",
       "         0,   0,   0,   0,   0,   0,   0,   0,   0,   0,   0,   0,   0,\n",
       "         0,   0,   0,   0])"
      ]
     },
     "execution_count": 20,
     "metadata": {},
     "output_type": "execute_result"
    }
   ],
   "source": [
    "reshaped_x[1]"
   ]
  },
  {
   "cell_type": "code",
   "execution_count": 21,
   "id": "5c2febcf",
   "metadata": {
    "execution": {
     "iopub.execute_input": "2022-08-17T03:41:23.358569Z",
     "iopub.status.busy": "2022-08-17T03:41:23.357366Z",
     "iopub.status.idle": "2022-08-17T03:41:23.669727Z",
     "shell.execute_reply": "2022-08-17T03:41:23.668491Z"
    },
    "papermill": {
     "duration": 0.333504,
     "end_time": "2022-08-17T03:41:23.672776",
     "exception": false,
     "start_time": "2022-08-17T03:41:23.339272",
     "status": "completed"
    },
    "tags": []
   },
   "outputs": [
    {
     "data": {
      "text/plain": [
       "array([[0., 0., 0., ..., 0., 0., 0.],\n",
       "       [0., 0., 0., ..., 0., 0., 0.],\n",
       "       [0., 0., 0., ..., 0., 0., 0.],\n",
       "       ...,\n",
       "       [0., 0., 0., ..., 0., 0., 0.],\n",
       "       [0., 0., 0., ..., 0., 0., 0.],\n",
       "       [0., 0., 0., ..., 0., 0., 0.]])"
      ]
     },
     "execution_count": 21,
     "metadata": {},
     "output_type": "execute_result"
    }
   ],
   "source": [
    "from sklearn.preprocessing import normalize\n",
    "normalized_x = normalize(reshaped_x)\n",
    "normalized_x\n"
   ]
  },
  {
   "cell_type": "code",
   "execution_count": 22,
   "id": "0d0b9570",
   "metadata": {
    "execution": {
     "iopub.execute_input": "2022-08-17T03:41:23.710853Z",
     "iopub.status.busy": "2022-08-17T03:41:23.710119Z",
     "iopub.status.idle": "2022-08-17T03:41:23.718760Z",
     "shell.execute_reply": "2022-08-17T03:41:23.717504Z"
    },
    "papermill": {
     "duration": 0.031255,
     "end_time": "2022-08-17T03:41:23.721928",
     "exception": false,
     "start_time": "2022-08-17T03:41:23.690673",
     "status": "completed"
    },
    "tags": []
   },
   "outputs": [
    {
     "data": {
      "text/plain": [
       "(60000, 28, 28)"
      ]
     },
     "execution_count": 22,
     "metadata": {},
     "output_type": "execute_result"
    }
   ],
   "source": [
    "reshaped_normalized_x= normalized_x.reshape(normalized_x.shape[0],28,28)\n",
    "reshaped_normalized_x.shape"
   ]
  },
  {
   "cell_type": "code",
   "execution_count": 23,
   "id": "c5a17c0a",
   "metadata": {
    "execution": {
     "iopub.execute_input": "2022-08-17T03:41:23.760625Z",
     "iopub.status.busy": "2022-08-17T03:41:23.759945Z",
     "iopub.status.idle": "2022-08-17T03:41:23.774997Z",
     "shell.execute_reply": "2022-08-17T03:41:23.774167Z"
    },
    "papermill": {
     "duration": 0.036899,
     "end_time": "2022-08-17T03:41:23.777324",
     "exception": false,
     "start_time": "2022-08-17T03:41:23.740425",
     "status": "completed"
    },
    "tags": []
   },
   "outputs": [
    {
     "data": {
      "text/plain": [
       "array([[0.        , 0.        , 0.        , 0.        , 0.        ,\n",
       "        0.        , 0.        , 0.        , 0.        , 0.        ,\n",
       "        0.        , 0.        , 0.        , 0.        , 0.        ,\n",
       "        0.        , 0.        , 0.        , 0.        , 0.        ,\n",
       "        0.        , 0.        , 0.        , 0.        , 0.        ,\n",
       "        0.        , 0.        , 0.        ],\n",
       "       [0.        , 0.        , 0.        , 0.        , 0.        ,\n",
       "        0.        , 0.        , 0.        , 0.        , 0.        ,\n",
       "        0.        , 0.        , 0.        , 0.        , 0.        ,\n",
       "        0.        , 0.        , 0.        , 0.        , 0.        ,\n",
       "        0.        , 0.        , 0.        , 0.        , 0.        ,\n",
       "        0.        , 0.        , 0.        ],\n",
       "       [0.        , 0.        , 0.        , 0.        , 0.        ,\n",
       "        0.        , 0.        , 0.        , 0.        , 0.        ,\n",
       "        0.        , 0.        , 0.        , 0.        , 0.        ,\n",
       "        0.        , 0.        , 0.        , 0.        , 0.        ,\n",
       "        0.        , 0.        , 0.        , 0.        , 0.        ,\n",
       "        0.        , 0.        , 0.        ],\n",
       "       [0.        , 0.        , 0.        , 0.        , 0.        ,\n",
       "        0.        , 0.        , 0.        , 0.        , 0.        ,\n",
       "        0.        , 0.        , 0.        , 0.        , 0.        ,\n",
       "        0.        , 0.        , 0.        , 0.        , 0.        ,\n",
       "        0.        , 0.        , 0.        , 0.        , 0.        ,\n",
       "        0.        , 0.        , 0.        ],\n",
       "       [0.        , 0.        , 0.        , 0.        , 0.        ,\n",
       "        0.        , 0.        , 0.        , 0.        , 0.        ,\n",
       "        0.        , 0.        , 0.        , 0.        , 0.        ,\n",
       "        0.        , 0.        , 0.        , 0.        , 0.        ,\n",
       "        0.        , 0.        , 0.        , 0.        , 0.        ,\n",
       "        0.        , 0.        , 0.        ],\n",
       "       [0.        , 0.        , 0.        , 0.        , 0.        ,\n",
       "        0.        , 0.        , 0.        , 0.        , 0.        ,\n",
       "        0.        , 0.        , 0.        , 0.        , 0.        ,\n",
       "        0.        , 0.        , 0.        , 0.        , 0.        ,\n",
       "        0.        , 0.        , 0.        , 0.        , 0.        ,\n",
       "        0.        , 0.        , 0.        ],\n",
       "       [0.        , 0.        , 0.        , 0.        , 0.        ,\n",
       "        0.        , 0.        , 0.        , 0.        , 0.        ,\n",
       "        0.        , 0.        , 0.        , 0.        , 0.00355308,\n",
       "        0.15100581, 0.15100581, 0.00355308, 0.        , 0.        ,\n",
       "        0.        , 0.        , 0.        , 0.        , 0.        ,\n",
       "        0.        , 0.        , 0.        ],\n",
       "       [0.        , 0.        , 0.        , 0.        , 0.        ,\n",
       "        0.        , 0.        , 0.        , 0.        , 0.        ,\n",
       "        0.        , 0.        , 0.        , 0.01125141, 0.15100581,\n",
       "        0.1397544 , 0.1397544 , 0.15100581, 0.        , 0.        ,\n",
       "        0.        , 0.        , 0.        , 0.        , 0.        ,\n",
       "        0.        , 0.        , 0.        ],\n",
       "       [0.        , 0.        , 0.        , 0.        , 0.        ,\n",
       "        0.        , 0.        , 0.        , 0.        , 0.        ,\n",
       "        0.        , 0.        , 0.        , 0.15100581, 0.15100581,\n",
       "        0.        , 0.        , 0.13205606, 0.01894975, 0.        ,\n",
       "        0.        , 0.        , 0.        , 0.        , 0.        ,\n",
       "        0.        , 0.        , 0.        ],\n",
       "       [0.        , 0.        , 0.        , 0.        , 0.        ,\n",
       "        0.        , 0.        , 0.        , 0.        , 0.        ,\n",
       "        0.        , 0.        , 0.02664808, 0.15100581, 0.12435773,\n",
       "        0.        , 0.        , 0.        , 0.15100581, 0.        ,\n",
       "        0.        , 0.        , 0.        , 0.        , 0.        ,\n",
       "        0.        , 0.        , 0.        ],\n",
       "       [0.        , 0.        , 0.        , 0.        , 0.        ,\n",
       "        0.        , 0.        , 0.        , 0.        , 0.        ,\n",
       "        0.        , 0.        , 0.15100581, 0.11725157, 0.        ,\n",
       "        0.        , 0.        , 0.        , 0.15100581, 0.        ,\n",
       "        0.        , 0.        , 0.        , 0.        , 0.        ,\n",
       "        0.        , 0.        , 0.        ],\n",
       "       [0.        , 0.        , 0.        , 0.        , 0.        ,\n",
       "        0.        , 0.        , 0.        , 0.        , 0.        ,\n",
       "        0.        , 0.04145258, 0.15100581, 0.        , 0.        ,\n",
       "        0.        , 0.        , 0.        , 0.15100581, 0.        ,\n",
       "        0.        , 0.        , 0.        , 0.        , 0.        ,\n",
       "        0.        , 0.        , 0.        ],\n",
       "       [0.        , 0.        , 0.        , 0.        , 0.        ,\n",
       "        0.        , 0.        , 0.        , 0.        , 0.        ,\n",
       "        0.        , 0.15100581, 0.1018549 , 0.        , 0.        ,\n",
       "        0.        , 0.        , 0.        , 0.15100581, 0.04915091,\n",
       "        0.        , 0.        , 0.        , 0.        , 0.        ,\n",
       "        0.        , 0.        , 0.        ],\n",
       "       [0.        , 0.        , 0.        , 0.        , 0.        ,\n",
       "        0.        , 0.        , 0.        , 0.        , 0.        ,\n",
       "        0.        , 0.15100581, 0.        , 0.        , 0.        ,\n",
       "        0.        , 0.        , 0.        , 0.15100581, 0.15100581,\n",
       "        0.        , 0.        , 0.        , 0.        , 0.        ,\n",
       "        0.        , 0.        , 0.        ],\n",
       "       [0.        , 0.        , 0.        , 0.        , 0.        ,\n",
       "        0.        , 0.        , 0.        , 0.        , 0.        ,\n",
       "        0.        , 0.15100581, 0.        , 0.        , 0.        ,\n",
       "        0.        , 0.        , 0.        , 0.15100581, 0.15100581,\n",
       "        0.        , 0.        , 0.        , 0.        , 0.        ,\n",
       "        0.        , 0.        , 0.        ],\n",
       "       [0.        , 0.        , 0.        , 0.        , 0.        ,\n",
       "        0.        , 0.        , 0.        , 0.        , 0.        ,\n",
       "        0.07165374, 0.07935207, 0.        , 0.        , 0.        ,\n",
       "        0.        , 0.        , 0.        , 0.15100581, 0.15100581,\n",
       "        0.        , 0.        , 0.        , 0.        , 0.        ,\n",
       "        0.        , 0.        , 0.        ],\n",
       "       [0.        , 0.        , 0.        , 0.        , 0.        ,\n",
       "        0.        , 0.        , 0.        , 0.        , 0.        ,\n",
       "        0.15100581, 0.        , 0.        , 0.        , 0.        ,\n",
       "        0.        , 0.        , 0.        , 0.15100581, 0.07165374,\n",
       "        0.        , 0.        , 0.        , 0.        , 0.        ,\n",
       "        0.        , 0.        , 0.        ],\n",
       "       [0.        , 0.        , 0.        , 0.        , 0.        ,\n",
       "        0.        , 0.        , 0.        , 0.        , 0.        ,\n",
       "        0.15100581, 0.        , 0.        , 0.        , 0.        ,\n",
       "        0.        , 0.        , 0.        , 0.15100581, 0.        ,\n",
       "        0.        , 0.        , 0.        , 0.        , 0.        ,\n",
       "        0.        , 0.        , 0.        ],\n",
       "       [0.        , 0.        , 0.        , 0.        , 0.        ,\n",
       "        0.        , 0.        , 0.        , 0.        , 0.        ,\n",
       "        0.15100581, 0.        , 0.        , 0.        , 0.        ,\n",
       "        0.        , 0.        , 0.        , 0.15100581, 0.        ,\n",
       "        0.        , 0.        , 0.        , 0.        , 0.        ,\n",
       "        0.        , 0.        , 0.        ],\n",
       "       [0.        , 0.        , 0.        , 0.        , 0.        ,\n",
       "        0.        , 0.        , 0.        , 0.        , 0.        ,\n",
       "        0.15100581, 0.        , 0.        , 0.        , 0.        ,\n",
       "        0.        , 0.        , 0.        , 0.15100581, 0.        ,\n",
       "        0.        , 0.        , 0.        , 0.        , 0.        ,\n",
       "        0.        , 0.        , 0.        ],\n",
       "       [0.        , 0.        , 0.        , 0.        , 0.        ,\n",
       "        0.        , 0.        , 0.        , 0.        , 0.        ,\n",
       "        0.15100581, 0.        , 0.        , 0.        , 0.        ,\n",
       "        0.        , 0.        , 0.        , 0.15100581, 0.        ,\n",
       "        0.        , 0.        , 0.        , 0.        , 0.        ,\n",
       "        0.        , 0.        , 0.        ],\n",
       "       [0.        , 0.        , 0.        , 0.        , 0.        ,\n",
       "        0.        , 0.        , 0.        , 0.        , 0.        ,\n",
       "        0.15100581, 0.        , 0.        , 0.        , 0.        ,\n",
       "        0.        , 0.        , 0.        , 0.15100581, 0.        ,\n",
       "        0.        , 0.        , 0.        , 0.        , 0.        ,\n",
       "        0.        , 0.        , 0.        ],\n",
       "       [0.        , 0.        , 0.        , 0.        , 0.        ,\n",
       "        0.        , 0.        , 0.        , 0.        , 0.        ,\n",
       "        0.15100581, 0.12435773, 0.        , 0.        , 0.        ,\n",
       "        0.        , 0.        , 0.        , 0.02664808, 0.        ,\n",
       "        0.        , 0.        , 0.        , 0.        , 0.        ,\n",
       "        0.        , 0.        , 0.        ],\n",
       "       [0.        , 0.        , 0.        , 0.        , 0.        ,\n",
       "        0.        , 0.        , 0.        , 0.        , 0.        ,\n",
       "        0.01894975, 0.15100581, 0.        , 0.        , 0.        ,\n",
       "        0.        , 0.        , 0.        , 0.        , 0.        ,\n",
       "        0.        , 0.        , 0.        , 0.        , 0.        ,\n",
       "        0.        , 0.        , 0.        ],\n",
       "       [0.        , 0.        , 0.        , 0.        , 0.        ,\n",
       "        0.        , 0.        , 0.        , 0.        , 0.        ,\n",
       "        0.        , 0.15100581, 0.        , 0.        , 0.        ,\n",
       "        0.        , 0.        , 0.        , 0.        , 0.        ,\n",
       "        0.        , 0.        , 0.        , 0.        , 0.        ,\n",
       "        0.        , 0.        , 0.        ],\n",
       "       [0.        , 0.        , 0.        , 0.        , 0.        ,\n",
       "        0.        , 0.        , 0.        , 0.        , 0.        ,\n",
       "        0.        , 0.00355308, 0.14745274, 0.        , 0.        ,\n",
       "        0.        , 0.        , 0.        , 0.        , 0.        ,\n",
       "        0.        , 0.        , 0.        , 0.        , 0.        ,\n",
       "        0.        , 0.        , 0.        ],\n",
       "       [0.        , 0.        , 0.        , 0.        , 0.        ,\n",
       "        0.        , 0.        , 0.        , 0.        , 0.        ,\n",
       "        0.        , 0.        , 0.        , 0.        , 0.        ,\n",
       "        0.        , 0.        , 0.        , 0.        , 0.        ,\n",
       "        0.        , 0.        , 0.        , 0.        , 0.        ,\n",
       "        0.        , 0.        , 0.        ],\n",
       "       [0.        , 0.        , 0.        , 0.        , 0.        ,\n",
       "        0.        , 0.        , 0.        , 0.        , 0.        ,\n",
       "        0.        , 0.        , 0.        , 0.        , 0.        ,\n",
       "        0.        , 0.        , 0.        , 0.        , 0.        ,\n",
       "        0.        , 0.        , 0.        , 0.        , 0.        ,\n",
       "        0.        , 0.        , 0.        ]])"
      ]
     },
     "execution_count": 23,
     "metadata": {},
     "output_type": "execute_result"
    }
   ],
   "source": [
    "reshaped_normalized_x[1]"
   ]
  },
  {
   "cell_type": "code",
   "execution_count": 24,
   "id": "d1282098",
   "metadata": {
    "execution": {
     "iopub.execute_input": "2022-08-17T03:41:23.817502Z",
     "iopub.status.busy": "2022-08-17T03:41:23.816319Z",
     "iopub.status.idle": "2022-08-17T03:41:24.042787Z",
     "shell.execute_reply": "2022-08-17T03:41:24.041537Z"
    },
    "papermill": {
     "duration": 0.250631,
     "end_time": "2022-08-17T03:41:24.045852",
     "exception": false,
     "start_time": "2022-08-17T03:41:23.795221",
     "status": "completed"
    },
    "tags": []
   },
   "outputs": [
    {
     "data": {
      "text/plain": [
       "array([[0.        , 0.        , 0.        , 0.        , 0.        ,\n",
       "        0.        , 0.        , 0.        , 0.        , 0.        ,\n",
       "        0.        , 0.        , 0.        , 0.        , 0.        ,\n",
       "        0.        , 0.        , 0.        , 0.        , 0.        ,\n",
       "        0.        , 0.        , 0.        , 0.        , 0.        ,\n",
       "        0.        , 0.        , 0.        ],\n",
       "       [0.        , 0.        , 0.        , 0.        , 0.        ,\n",
       "        0.        , 0.        , 0.        , 0.        , 0.        ,\n",
       "        0.        , 0.        , 0.        , 0.        , 0.        ,\n",
       "        0.        , 0.        , 0.        , 0.        , 0.        ,\n",
       "        0.        , 0.        , 0.        , 0.        , 0.        ,\n",
       "        0.        , 0.        , 0.        ],\n",
       "       [0.        , 0.        , 0.        , 0.        , 0.        ,\n",
       "        0.        , 0.        , 0.        , 0.        , 0.        ,\n",
       "        0.        , 0.        , 0.        , 0.        , 0.        ,\n",
       "        0.        , 0.        , 0.        , 0.        , 0.        ,\n",
       "        0.        , 0.        , 0.        , 0.        , 0.        ,\n",
       "        0.        , 0.        , 0.        ],\n",
       "       [0.        , 0.        , 0.        , 0.        , 0.        ,\n",
       "        0.        , 0.        , 0.        , 0.        , 0.        ,\n",
       "        0.        , 0.        , 0.        , 0.        , 0.        ,\n",
       "        0.        , 0.        , 0.        , 0.        , 0.        ,\n",
       "        0.        , 0.        , 0.        , 0.        , 0.        ,\n",
       "        0.        , 0.        , 0.        ],\n",
       "       [0.        , 0.        , 0.        , 0.        , 0.        ,\n",
       "        0.        , 0.        , 0.        , 0.        , 0.        ,\n",
       "        0.        , 0.        , 0.        , 0.        , 0.        ,\n",
       "        0.        , 0.        , 0.        , 0.        , 0.        ,\n",
       "        0.        , 0.        , 0.        , 0.        , 0.        ,\n",
       "        0.        , 0.        , 0.        ],\n",
       "       [0.        , 0.        , 0.        , 0.        , 0.        ,\n",
       "        0.        , 0.        , 0.        , 0.        , 0.        ,\n",
       "        0.        , 0.        , 0.        , 0.        , 0.        ,\n",
       "        0.        , 0.        , 0.        , 0.        , 0.        ,\n",
       "        0.        , 0.        , 0.        , 0.        , 0.        ,\n",
       "        0.        , 0.        , 0.        ],\n",
       "       [0.        , 0.        , 0.        , 0.        , 0.        ,\n",
       "        0.        , 0.        , 0.        , 0.        , 0.        ,\n",
       "        0.        , 0.        , 0.        , 0.        , 0.02352941,\n",
       "        1.        , 1.        , 0.02352941, 0.        , 0.        ,\n",
       "        0.        , 0.        , 0.        , 0.        , 0.        ,\n",
       "        0.        , 0.        , 0.        ],\n",
       "       [0.        , 0.        , 0.        , 0.        , 0.        ,\n",
       "        0.        , 0.        , 0.        , 0.        , 0.        ,\n",
       "        0.        , 0.        , 0.        , 0.0745098 , 1.        ,\n",
       "        0.9254902 , 0.9254902 , 1.        , 0.        , 0.        ,\n",
       "        0.        , 0.        , 0.        , 0.        , 0.        ,\n",
       "        0.        , 0.        , 0.        ],\n",
       "       [0.        , 0.        , 0.        , 0.        , 0.        ,\n",
       "        0.        , 0.        , 0.        , 0.        , 0.        ,\n",
       "        0.        , 0.        , 0.        , 1.        , 1.        ,\n",
       "        0.        , 0.        , 0.8745098 , 0.1254902 , 0.        ,\n",
       "        0.        , 0.        , 0.        , 0.        , 0.        ,\n",
       "        0.        , 0.        , 0.        ],\n",
       "       [0.        , 0.        , 0.        , 0.        , 0.        ,\n",
       "        0.        , 0.        , 0.        , 0.        , 0.        ,\n",
       "        0.        , 0.        , 0.17647059, 1.        , 0.82352941,\n",
       "        0.        , 0.        , 0.        , 1.        , 0.        ,\n",
       "        0.        , 0.        , 0.        , 0.        , 0.        ,\n",
       "        0.        , 0.        , 0.        ],\n",
       "       [0.        , 0.        , 0.        , 0.        , 0.        ,\n",
       "        0.        , 0.        , 0.        , 0.        , 0.        ,\n",
       "        0.        , 0.        , 1.        , 0.77647059, 0.        ,\n",
       "        0.        , 0.        , 0.        , 1.        , 0.        ,\n",
       "        0.        , 0.        , 0.        , 0.        , 0.        ,\n",
       "        0.        , 0.        , 0.        ],\n",
       "       [0.        , 0.        , 0.        , 0.        , 0.        ,\n",
       "        0.        , 0.        , 0.        , 0.        , 0.        ,\n",
       "        0.        , 0.2745098 , 1.        , 0.        , 0.        ,\n",
       "        0.        , 0.        , 0.        , 1.        , 0.        ,\n",
       "        0.        , 0.        , 0.        , 0.        , 0.        ,\n",
       "        0.        , 0.        , 0.        ],\n",
       "       [0.        , 0.        , 0.        , 0.        , 0.        ,\n",
       "        0.        , 0.        , 0.        , 0.        , 0.        ,\n",
       "        0.        , 1.        , 0.6745098 , 0.        , 0.        ,\n",
       "        0.        , 0.        , 0.        , 1.        , 0.3254902 ,\n",
       "        0.        , 0.        , 0.        , 0.        , 0.        ,\n",
       "        0.        , 0.        , 0.        ],\n",
       "       [0.        , 0.        , 0.        , 0.        , 0.        ,\n",
       "        0.        , 0.        , 0.        , 0.        , 0.        ,\n",
       "        0.        , 1.        , 0.        , 0.        , 0.        ,\n",
       "        0.        , 0.        , 0.        , 1.        , 1.        ,\n",
       "        0.        , 0.        , 0.        , 0.        , 0.        ,\n",
       "        0.        , 0.        , 0.        ],\n",
       "       [0.        , 0.        , 0.        , 0.        , 0.        ,\n",
       "        0.        , 0.        , 0.        , 0.        , 0.        ,\n",
       "        0.        , 1.        , 0.        , 0.        , 0.        ,\n",
       "        0.        , 0.        , 0.        , 1.        , 1.        ,\n",
       "        0.        , 0.        , 0.        , 0.        , 0.        ,\n",
       "        0.        , 0.        , 0.        ],\n",
       "       [0.        , 0.        , 0.        , 0.        , 0.        ,\n",
       "        0.        , 0.        , 0.        , 0.        , 0.        ,\n",
       "        0.4745098 , 0.5254902 , 0.        , 0.        , 0.        ,\n",
       "        0.        , 0.        , 0.        , 1.        , 1.        ,\n",
       "        0.        , 0.        , 0.        , 0.        , 0.        ,\n",
       "        0.        , 0.        , 0.        ],\n",
       "       [0.        , 0.        , 0.        , 0.        , 0.        ,\n",
       "        0.        , 0.        , 0.        , 0.        , 0.        ,\n",
       "        1.        , 0.        , 0.        , 0.        , 0.        ,\n",
       "        0.        , 0.        , 0.        , 1.        , 0.4745098 ,\n",
       "        0.        , 0.        , 0.        , 0.        , 0.        ,\n",
       "        0.        , 0.        , 0.        ],\n",
       "       [0.        , 0.        , 0.        , 0.        , 0.        ,\n",
       "        0.        , 0.        , 0.        , 0.        , 0.        ,\n",
       "        1.        , 0.        , 0.        , 0.        , 0.        ,\n",
       "        0.        , 0.        , 0.        , 1.        , 0.        ,\n",
       "        0.        , 0.        , 0.        , 0.        , 0.        ,\n",
       "        0.        , 0.        , 0.        ],\n",
       "       [0.        , 0.        , 0.        , 0.        , 0.        ,\n",
       "        0.        , 0.        , 0.        , 0.        , 0.        ,\n",
       "        1.        , 0.        , 0.        , 0.        , 0.        ,\n",
       "        0.        , 0.        , 0.        , 1.        , 0.        ,\n",
       "        0.        , 0.        , 0.        , 0.        , 0.        ,\n",
       "        0.        , 0.        , 0.        ],\n",
       "       [0.        , 0.        , 0.        , 0.        , 0.        ,\n",
       "        0.        , 0.        , 0.        , 0.        , 0.        ,\n",
       "        1.        , 0.        , 0.        , 0.        , 0.        ,\n",
       "        0.        , 0.        , 0.        , 1.        , 0.        ,\n",
       "        0.        , 0.        , 0.        , 0.        , 0.        ,\n",
       "        0.        , 0.        , 0.        ],\n",
       "       [0.        , 0.        , 0.        , 0.        , 0.        ,\n",
       "        0.        , 0.        , 0.        , 0.        , 0.        ,\n",
       "        1.        , 0.        , 0.        , 0.        , 0.        ,\n",
       "        0.        , 0.        , 0.        , 1.        , 0.        ,\n",
       "        0.        , 0.        , 0.        , 0.        , 0.        ,\n",
       "        0.        , 0.        , 0.        ],\n",
       "       [0.        , 0.        , 0.        , 0.        , 0.        ,\n",
       "        0.        , 0.        , 0.        , 0.        , 0.        ,\n",
       "        1.        , 0.        , 0.        , 0.        , 0.        ,\n",
       "        0.        , 0.        , 0.        , 1.        , 0.        ,\n",
       "        0.        , 0.        , 0.        , 0.        , 0.        ,\n",
       "        0.        , 0.        , 0.        ],\n",
       "       [0.        , 0.        , 0.        , 0.        , 0.        ,\n",
       "        0.        , 0.        , 0.        , 0.        , 0.        ,\n",
       "        1.        , 0.82352941, 0.        , 0.        , 0.        ,\n",
       "        0.        , 0.        , 0.        , 0.17647059, 0.        ,\n",
       "        0.        , 0.        , 0.        , 0.        , 0.        ,\n",
       "        0.        , 0.        , 0.        ],\n",
       "       [0.        , 0.        , 0.        , 0.        , 0.        ,\n",
       "        0.        , 0.        , 0.        , 0.        , 0.        ,\n",
       "        0.1254902 , 1.        , 0.        , 0.        , 0.        ,\n",
       "        0.        , 0.        , 0.        , 0.        , 0.        ,\n",
       "        0.        , 0.        , 0.        , 0.        , 0.        ,\n",
       "        0.        , 0.        , 0.        ],\n",
       "       [0.        , 0.        , 0.        , 0.        , 0.        ,\n",
       "        0.        , 0.        , 0.        , 0.        , 0.        ,\n",
       "        0.        , 1.        , 0.        , 0.        , 0.        ,\n",
       "        0.        , 0.        , 0.        , 0.        , 0.        ,\n",
       "        0.        , 0.        , 0.        , 0.        , 0.        ,\n",
       "        0.        , 0.        , 0.        ],\n",
       "       [0.        , 0.        , 0.        , 0.        , 0.        ,\n",
       "        0.        , 0.        , 0.        , 0.        , 0.        ,\n",
       "        0.        , 0.02352941, 0.97647059, 0.        , 0.        ,\n",
       "        0.        , 0.        , 0.        , 0.        , 0.        ,\n",
       "        0.        , 0.        , 0.        , 0.        , 0.        ,\n",
       "        0.        , 0.        , 0.        ],\n",
       "       [0.        , 0.        , 0.        , 0.        , 0.        ,\n",
       "        0.        , 0.        , 0.        , 0.        , 0.        ,\n",
       "        0.        , 0.        , 0.        , 0.        , 0.        ,\n",
       "        0.        , 0.        , 0.        , 0.        , 0.        ,\n",
       "        0.        , 0.        , 0.        , 0.        , 0.        ,\n",
       "        0.        , 0.        , 0.        ],\n",
       "       [0.        , 0.        , 0.        , 0.        , 0.        ,\n",
       "        0.        , 0.        , 0.        , 0.        , 0.        ,\n",
       "        0.        , 0.        , 0.        , 0.        , 0.        ,\n",
       "        0.        , 0.        , 0.        , 0.        , 0.        ,\n",
       "        0.        , 0.        , 0.        , 0.        , 0.        ,\n",
       "        0.        , 0.        , 0.        ]])"
      ]
     },
     "execution_count": 24,
     "metadata": {},
     "output_type": "execute_result"
    }
   ],
   "source": [
    "tes_norm_x = x/255\n",
    "tes_norm_x[1]"
   ]
  },
  {
   "cell_type": "code",
   "execution_count": null,
   "id": "324753f0",
   "metadata": {
    "papermill": {
     "duration": 0.017352,
     "end_time": "2022-08-17T03:41:24.081792",
     "exception": false,
     "start_time": "2022-08-17T03:41:24.064440",
     "status": "completed"
    },
    "tags": []
   },
   "outputs": [],
   "source": []
  },
  {
   "cell_type": "markdown",
   "id": "73fc1854",
   "metadata": {
    "papermill": {
     "duration": 0.018322,
     "end_time": "2022-08-17T03:41:24.118544",
     "exception": false,
     "start_time": "2022-08-17T03:41:24.100222",
     "status": "completed"
    },
    "tags": []
   },
   "source": [
    "# Train test split"
   ]
  },
  {
   "cell_type": "code",
   "execution_count": 25,
   "id": "a37e48b7",
   "metadata": {
    "execution": {
     "iopub.execute_input": "2022-08-17T03:41:24.158102Z",
     "iopub.status.busy": "2022-08-17T03:41:24.156835Z",
     "iopub.status.idle": "2022-08-17T03:41:24.913514Z",
     "shell.execute_reply": "2022-08-17T03:41:24.911824Z"
    },
    "papermill": {
     "duration": 0.780125,
     "end_time": "2022-08-17T03:41:24.917192",
     "exception": false,
     "start_time": "2022-08-17T03:41:24.137067",
     "status": "completed"
    },
    "tags": []
   },
   "outputs": [
    {
     "name": "stdout",
     "output_type": "stream",
     "text": [
      "x_train shape (42000, 28, 28)\n",
      "x_test shape (18000, 28, 28)\n",
      "y_train shape (42000, 10)\n",
      "y_test shape (18000, 10)\n"
     ]
    }
   ],
   "source": [
    "from sklearn.model_selection import train_test_split\n",
    "\n",
    "x_train, x_test, y_train, y_test = train_test_split(reshaped_normalized_x,keras_encoded_y, test_size=0.3)\n",
    "print ('x_train shape',x_train.shape)\n",
    "print ('x_test shape',x_test.shape)\n",
    "print ('y_train shape',y_train.shape)\n",
    "print ('y_test shape',y_test.shape)"
   ]
  },
  {
   "cell_type": "code",
   "execution_count": 26,
   "id": "14586efd",
   "metadata": {
    "execution": {
     "iopub.execute_input": "2022-08-17T03:41:24.955607Z",
     "iopub.status.busy": "2022-08-17T03:41:24.955198Z",
     "iopub.status.idle": "2022-08-17T03:41:24.963718Z",
     "shell.execute_reply": "2022-08-17T03:41:24.962363Z"
    },
    "papermill": {
     "duration": 0.030512,
     "end_time": "2022-08-17T03:41:24.966567",
     "exception": false,
     "start_time": "2022-08-17T03:41:24.936055",
     "status": "completed"
    },
    "tags": []
   },
   "outputs": [
    {
     "data": {
      "text/plain": [
       "(42000, 28, 28, 1)"
      ]
     },
     "execution_count": 26,
     "metadata": {},
     "output_type": "execute_result"
    }
   ],
   "source": [
    "x_train = x_train.reshape(x_train.shape[0],28,28,1)\n",
    "x_train.shape"
   ]
  },
  {
   "cell_type": "markdown",
   "id": "0701cc4d",
   "metadata": {
    "papermill": {
     "duration": 0.018106,
     "end_time": "2022-08-17T03:41:25.002354",
     "exception": false,
     "start_time": "2022-08-17T03:41:24.984248",
     "status": "completed"
    },
    "tags": []
   },
   "source": [
    "# create model"
   ]
  },
  {
   "cell_type": "code",
   "execution_count": 27,
   "id": "f7781ca7",
   "metadata": {
    "execution": {
     "iopub.execute_input": "2022-08-17T03:41:25.042032Z",
     "iopub.status.busy": "2022-08-17T03:41:25.041640Z",
     "iopub.status.idle": "2022-08-17T03:41:25.226011Z",
     "shell.execute_reply": "2022-08-17T03:41:25.223837Z"
    },
    "papermill": {
     "duration": 0.207618,
     "end_time": "2022-08-17T03:41:25.228706",
     "exception": false,
     "start_time": "2022-08-17T03:41:25.021088",
     "status": "completed"
    },
    "tags": []
   },
   "outputs": [
    {
     "name": "stdout",
     "output_type": "stream",
     "text": [
      "Model: \"sequential\"\n",
      "_________________________________________________________________\n",
      "Layer (type)                 Output Shape              Param #   \n",
      "=================================================================\n",
      "conv2d (Conv2D)              (None, 26, 26, 32)        320       \n",
      "_________________________________________________________________\n",
      "max_pooling2d (MaxPooling2D) (None, 13, 13, 32)        0         \n",
      "_________________________________________________________________\n",
      "conv2d_1 (Conv2D)            (None, 11, 11, 64)        18496     \n",
      "_________________________________________________________________\n",
      "max_pooling2d_1 (MaxPooling2 (None, 5, 5, 64)          0         \n",
      "_________________________________________________________________\n",
      "flatten (Flatten)            (None, 1600)              0         \n",
      "_________________________________________________________________\n",
      "dropout (Dropout)            (None, 1600)              0         \n",
      "_________________________________________________________________\n",
      "dense (Dense)                (None, 128)               204928    \n",
      "_________________________________________________________________\n",
      "dense_1 (Dense)              (None, 10)                1290      \n",
      "=================================================================\n",
      "Total params: 225,034\n",
      "Trainable params: 225,034\n",
      "Non-trainable params: 0\n",
      "_________________________________________________________________\n"
     ]
    },
    {
     "name": "stderr",
     "output_type": "stream",
     "text": [
      "2022-08-17 03:41:25.084194: I tensorflow/core/common_runtime/process_util.cc:146] Creating new thread pool with default inter op setting: 2. Tune using inter_op_parallelism_threads for best performance.\n"
     ]
    }
   ],
   "source": [
    "from keras.models import Sequential\n",
    "from keras.layers import Conv2D,MaxPool2D,Dense,Flatten,Dropout\n",
    "\n",
    "model = Sequential()\n",
    "model.add (Conv2D(32,kernel_size=(3,3),input_shape=(28,28,1)))\n",
    "model.add (MaxPool2D(pool_size=(2,2)))\n",
    "model.add (Conv2D(64,kernel_size=(3,3)))\n",
    "model.add (MaxPool2D(pool_size=(2,2)))\n",
    "model.add(Flatten())\n",
    "model.add(Dropout(0.2))\n",
    "model.add(Dense(128))\n",
    "model.add(Dense(10,activation='softmax'))\n",
    "model.summary()\n",
    "\n",
    "model.compile(optimizer='rmsprop',loss='CategoricalCrossentropy', metrics=['accuracy'])\n"
   ]
  },
  {
   "cell_type": "code",
   "execution_count": 28,
   "id": "52c31a29",
   "metadata": {
    "execution": {
     "iopub.execute_input": "2022-08-17T03:41:25.271272Z",
     "iopub.status.busy": "2022-08-17T03:41:25.270792Z",
     "iopub.status.idle": "2022-08-17T03:43:43.688643Z",
     "shell.execute_reply": "2022-08-17T03:43:43.687523Z"
    },
    "papermill": {
     "duration": 138.442048,
     "end_time": "2022-08-17T03:43:43.691308",
     "exception": false,
     "start_time": "2022-08-17T03:41:25.249260",
     "status": "completed"
    },
    "tags": []
   },
   "outputs": [
    {
     "name": "stderr",
     "output_type": "stream",
     "text": [
      "2022-08-17 03:41:25.591312: I tensorflow/compiler/mlir/mlir_graph_optimization_pass.cc:185] None of the MLIR Optimization Passes are enabled (registered 2)\n"
     ]
    },
    {
     "name": "stdout",
     "output_type": "stream",
     "text": [
      "Epoch 1/8\n",
      "1313/1313 [==============================] - 19s 14ms/step - loss: 0.1251 - accuracy: 0.9635\n",
      "Epoch 2/8\n",
      "1313/1313 [==============================] - 18s 13ms/step - loss: 0.0442 - accuracy: 0.9864\n",
      "Epoch 3/8\n",
      "1313/1313 [==============================] - 18s 14ms/step - loss: 0.0330 - accuracy: 0.9895\n",
      "Epoch 4/8\n",
      "1313/1313 [==============================] - 17s 13ms/step - loss: 0.0271 - accuracy: 0.9916\n",
      "Epoch 5/8\n",
      "1313/1313 [==============================] - 17s 13ms/step - loss: 0.0235 - accuracy: 0.9921\n",
      "Epoch 6/8\n",
      "1313/1313 [==============================] - 16s 12ms/step - loss: 0.0225 - accuracy: 0.9931\n",
      "Epoch 7/8\n",
      "1313/1313 [==============================] - 17s 13ms/step - loss: 0.0186 - accuracy: 0.9938\n",
      "Epoch 8/8\n",
      "1313/1313 [==============================] - 16s 12ms/step - loss: 0.0176 - accuracy: 0.9945\n"
     ]
    },
    {
     "data": {
      "text/plain": [
       "<keras.callbacks.History at 0x7fdbec4cd9d0>"
      ]
     },
     "execution_count": 28,
     "metadata": {},
     "output_type": "execute_result"
    }
   ],
   "source": [
    "model.fit(x_train,y_train, epochs=8)"
   ]
  },
  {
   "cell_type": "code",
   "execution_count": 29,
   "id": "3afdc63b",
   "metadata": {
    "execution": {
     "iopub.execute_input": "2022-08-17T03:43:44.031369Z",
     "iopub.status.busy": "2022-08-17T03:43:44.030672Z",
     "iopub.status.idle": "2022-08-17T03:43:44.037273Z",
     "shell.execute_reply": "2022-08-17T03:43:44.036349Z"
    },
    "papermill": {
     "duration": 0.179358,
     "end_time": "2022-08-17T03:43:44.039903",
     "exception": false,
     "start_time": "2022-08-17T03:43:43.860545",
     "status": "completed"
    },
    "tags": []
   },
   "outputs": [
    {
     "data": {
      "text/plain": [
       "(18000, 28, 28, 1)"
      ]
     },
     "execution_count": 29,
     "metadata": {},
     "output_type": "execute_result"
    }
   ],
   "source": [
    "x_test = x_test.reshape(x_test.shape[0],28,28,1)\n",
    "x_test.shape"
   ]
  },
  {
   "cell_type": "code",
   "execution_count": 30,
   "id": "fe7a6b46",
   "metadata": {
    "execution": {
     "iopub.execute_input": "2022-08-17T03:43:44.451170Z",
     "iopub.status.busy": "2022-08-17T03:43:44.450389Z",
     "iopub.status.idle": "2022-08-17T03:43:46.866370Z",
     "shell.execute_reply": "2022-08-17T03:43:46.865314Z"
    },
    "papermill": {
     "duration": 2.66189,
     "end_time": "2022-08-17T03:43:46.869274",
     "exception": false,
     "start_time": "2022-08-17T03:43:44.207384",
     "status": "completed"
    },
    "tags": []
   },
   "outputs": [],
   "source": [
    "test_pred = model.predict(x_test)"
   ]
  },
  {
   "cell_type": "code",
   "execution_count": 31,
   "id": "873cbf66",
   "metadata": {
    "execution": {
     "iopub.execute_input": "2022-08-17T03:43:47.203390Z",
     "iopub.status.busy": "2022-08-17T03:43:47.202588Z",
     "iopub.status.idle": "2022-08-17T03:43:47.210011Z",
     "shell.execute_reply": "2022-08-17T03:43:47.208843Z"
    },
    "papermill": {
     "duration": 0.175519,
     "end_time": "2022-08-17T03:43:47.212455",
     "exception": false,
     "start_time": "2022-08-17T03:43:47.036936",
     "status": "completed"
    },
    "tags": []
   },
   "outputs": [
    {
     "data": {
      "text/plain": [
       "(18000, 10)"
      ]
     },
     "execution_count": 31,
     "metadata": {},
     "output_type": "execute_result"
    }
   ],
   "source": [
    "test_pred.shape"
   ]
  },
  {
   "cell_type": "code",
   "execution_count": 32,
   "id": "eed01e06",
   "metadata": {
    "execution": {
     "iopub.execute_input": "2022-08-17T03:43:47.547627Z",
     "iopub.status.busy": "2022-08-17T03:43:47.546755Z",
     "iopub.status.idle": "2022-08-17T03:43:47.554555Z",
     "shell.execute_reply": "2022-08-17T03:43:47.553517Z"
    },
    "papermill": {
     "duration": 0.17948,
     "end_time": "2022-08-17T03:43:47.556954",
     "exception": false,
     "start_time": "2022-08-17T03:43:47.377474",
     "status": "completed"
    },
    "tags": []
   },
   "outputs": [
    {
     "data": {
      "text/plain": [
       "array([1.0411532e-15, 1.6697381e-11, 4.9981839e-13, 1.4266108e-10,\n",
       "       1.8851649e-09, 1.0000000e+00, 5.6294879e-25, 5.0037200e-19,\n",
       "       8.0477339e-14, 4.0586913e-21], dtype=float32)"
      ]
     },
     "execution_count": 32,
     "metadata": {},
     "output_type": "execute_result"
    }
   ],
   "source": [
    "test_pred[0]"
   ]
  },
  {
   "cell_type": "code",
   "execution_count": 33,
   "id": "491f2a82",
   "metadata": {
    "execution": {
     "iopub.execute_input": "2022-08-17T03:43:47.893348Z",
     "iopub.status.busy": "2022-08-17T03:43:47.892476Z",
     "iopub.status.idle": "2022-08-17T03:43:49.785182Z",
     "shell.execute_reply": "2022-08-17T03:43:49.783879Z"
    },
    "papermill": {
     "duration": 2.067178,
     "end_time": "2022-08-17T03:43:49.787655",
     "exception": false,
     "start_time": "2022-08-17T03:43:47.720477",
     "status": "completed"
    },
    "tags": []
   },
   "outputs": [
    {
     "name": "stdout",
     "output_type": "stream",
     "text": [
      "prediction 5\n",
      "real_label 5\n"
     ]
    },
    {
     "data": {
      "image/png": "[encoded data removed]",
      "text/plain": [
       "<Figure size 432x288 with 1 Axes>"
      ]
     },
     "metadata": {
      "needs_background": "light"
     },
     "output_type": "display_data"
    },
    {
     "name": "stdout",
     "output_type": "stream",
     "text": [
      "prediction 3\n",
      "real_label 3\n"
     ]
    },
    {
     "data": {
      "image/png": "[encoded data removed]",
      "text/plain": [
       "<Figure size 432x288 with 1 Axes>"
      ]
     },
     "metadata": {
      "needs_background": "light"
     },
     "output_type": "display_data"
    },
    {
     "name": "stdout",
     "output_type": "stream",
     "text": [
      "prediction 7\n",
      "real_label 7\n"
     ]
    },
    {
     "data": {
      "image/png": "[encoded data removed]",
      "text/plain": [
       "<Figure size 432x288 with 1 Axes>"
      ]
     },
     "metadata": {
      "needs_background": "light"
     },
     "output_type": "display_data"
    },
    {
     "name": "stdout",
     "output_type": "stream",
     "text": [
      "prediction 8\n",
      "real_label 8\n"
     ]
    },
    {
     "data": {
      "image/png": "[encoded data removed]",
      "text/plain": [
       "<Figure size 432x288 with 1 Axes>"
      ]
     },
     "metadata": {
      "needs_background": "light"
     },
     "output_type": "display_data"
    },
    {
     "name": "stdout",
     "output_type": "stream",
     "text": [
      "prediction 4\n",
      "real_label 4\n"
     ]
    },
    {
     "data": {
      "image/png": "[encoded data removed]",
      "text/plain": [
       "<Figure size 432x288 with 1 Axes>"
      ]
     },
     "metadata": {
      "needs_background": "light"
     },
     "output_type": "display_data"
    },
    {
     "name": "stdout",
     "output_type": "stream",
     "text": [
      "prediction 4\n",
      "real_label 4\n"
     ]
    },
    {
     "data": {
      "image/png": "[encoded data removed]",
      "text/plain": [
       "<Figure size 432x288 with 1 Axes>"
      ]
     },
     "metadata": {
      "needs_background": "light"
     },
     "output_type": "display_data"
    },
    {
     "name": "stdout",
     "output_type": "stream",
     "text": [
      "prediction 1\n",
      "real_label 1\n"
     ]
    },
    {
     "data": {
      "image/png": "[encoded data removed]",
      "text/plain": [
       "<Figure size 432x288 with 1 Axes>"
      ]
     },
     "metadata": {
      "needs_background": "light"
     },
     "output_type": "display_data"
    },
    {
     "name": "stdout",
     "output_type": "stream",
     "text": [
      "prediction 6\n",
      "real_label 6\n"
     ]
    },
    {
     "data": {
      "image/png": "[encoded data removed]",
      "text/plain": [
       "<Figure size 432x288 with 1 Axes>"
      ]
     },
     "metadata": {
      "needs_background": "light"
     },
     "output_type": "display_data"
    },
    {
     "name": "stdout",
     "output_type": "stream",
     "text": [
      "prediction 7\n",
      "real_label 7\n"
     ]
    },
    {
     "data": {
      "image/png": "[encoded data removed]",
      "text/plain": [
       "<Figure size 432x288 with 1 Axes>"
      ]
     },
     "metadata": {
      "needs_background": "light"
     },
     "output_type": "display_data"
    },
    {
     "name": "stdout",
     "output_type": "stream",
     "text": [
      "prediction 9\n",
      "real_label 9\n"
     ]
    },
    {
     "data": {
      "image/png": "[encoded data removed]",
      "text/plain": [
       "<Figure size 432x288 with 1 Axes>"
      ]
     },
     "metadata": {
      "needs_background": "light"
     },
     "output_type": "display_data"
    }
   ],
   "source": [
    "for i in range(10):\n",
    "    prediction = np.argmax(test_pred[i])\n",
    "    print ('prediction',prediction)\n",
    "    real_label = np.argmax(y_test[i])\n",
    "    print ('real_label',real_label)\n",
    "    img = x_test[i]\n",
    "    plt.imshow(img)\n",
    "    plt.show()"
   ]
  },
  {
   "cell_type": "code",
   "execution_count": 34,
   "id": "05133f66",
   "metadata": {
    "execution": {
     "iopub.execute_input": "2022-08-17T03:43:50.126426Z",
     "iopub.status.busy": "2022-08-17T03:43:50.125993Z",
     "iopub.status.idle": "2022-08-17T03:43:50.132628Z",
     "shell.execute_reply": "2022-08-17T03:43:50.131820Z"
    },
    "papermill": {
     "duration": 0.177993,
     "end_time": "2022-08-17T03:43:50.134971",
     "exception": false,
     "start_time": "2022-08-17T03:43:49.956978",
     "status": "completed"
    },
    "tags": []
   },
   "outputs": [
    {
     "data": {
      "text/plain": [
       "(18000,)"
      ]
     },
     "execution_count": 34,
     "metadata": {},
     "output_type": "execute_result"
    }
   ],
   "source": [
    "all_test_prediction = np.argmax(test_pred,axis=1)\n",
    "all_test_prediction.shape"
   ]
  },
  {
   "cell_type": "code",
   "execution_count": 35,
   "id": "091749bf",
   "metadata": {
    "execution": {
     "iopub.execute_input": "2022-08-17T03:43:50.476320Z",
     "iopub.status.busy": "2022-08-17T03:43:50.475681Z",
     "iopub.status.idle": "2022-08-17T03:43:50.482288Z",
     "shell.execute_reply": "2022-08-17T03:43:50.481130Z"
    },
    "papermill": {
     "duration": 0.182729,
     "end_time": "2022-08-17T03:43:50.484863",
     "exception": false,
     "start_time": "2022-08-17T03:43:50.302134",
     "status": "completed"
    },
    "tags": []
   },
   "outputs": [
    {
     "data": {
      "text/plain": [
       "array([5, 3, 7, ..., 3, 7, 0])"
      ]
     },
     "execution_count": 35,
     "metadata": {},
     "output_type": "execute_result"
    }
   ],
   "source": [
    "all_test_prediction"
   ]
  },
  {
   "cell_type": "code",
   "execution_count": 36,
   "id": "426be393",
   "metadata": {
    "execution": {
     "iopub.execute_input": "2022-08-17T03:43:50.822879Z",
     "iopub.status.busy": "2022-08-17T03:43:50.822251Z",
     "iopub.status.idle": "2022-08-17T03:43:50.829874Z",
     "shell.execute_reply": "2022-08-17T03:43:50.828820Z"
    },
    "papermill": {
     "duration": 0.181144,
     "end_time": "2022-08-17T03:43:50.832744",
     "exception": false,
     "start_time": "2022-08-17T03:43:50.651600",
     "status": "completed"
    },
    "tags": []
   },
   "outputs": [
    {
     "data": {
      "text/plain": [
       "(18000,)"
      ]
     },
     "execution_count": 36,
     "metadata": {},
     "output_type": "execute_result"
    }
   ],
   "source": [
    "all_test_true = np.argmax(y_test,axis=1)\n",
    "all_test_true.shape"
   ]
  },
  {
   "cell_type": "code",
   "execution_count": 37,
   "id": "3acce69c",
   "metadata": {
    "execution": {
     "iopub.execute_input": "2022-08-17T03:43:51.232830Z",
     "iopub.status.busy": "2022-08-17T03:43:51.232415Z",
     "iopub.status.idle": "2022-08-17T03:43:51.239262Z",
     "shell.execute_reply": "2022-08-17T03:43:51.238414Z"
    },
    "papermill": {
     "duration": 0.239233,
     "end_time": "2022-08-17T03:43:51.241458",
     "exception": false,
     "start_time": "2022-08-17T03:43:51.002225",
     "status": "completed"
    },
    "tags": []
   },
   "outputs": [
    {
     "data": {
      "text/plain": [
       "array([5, 3, 7, ..., 3, 7, 0])"
      ]
     },
     "execution_count": 37,
     "metadata": {},
     "output_type": "execute_result"
    }
   ],
   "source": [
    "all_test_true"
   ]
  },
  {
   "cell_type": "code",
   "execution_count": 38,
   "id": "9f7bc6ff",
   "metadata": {
    "execution": {
     "iopub.execute_input": "2022-08-17T03:43:51.583366Z",
     "iopub.status.busy": "2022-08-17T03:43:51.582224Z",
     "iopub.status.idle": "2022-08-17T03:43:51.595666Z",
     "shell.execute_reply": "2022-08-17T03:43:51.594201Z"
    },
    "papermill": {
     "duration": 0.185046,
     "end_time": "2022-08-17T03:43:51.598073",
     "exception": false,
     "start_time": "2022-08-17T03:43:51.413027",
     "status": "completed"
    },
    "tags": []
   },
   "outputs": [
    {
     "data": {
      "text/plain": [
       "array([[1767,   13,    1,    2,    0,    0,    0,    0,    3,    0],\n",
       "       [   3, 1786,    0,    0,    0,    0,    0,    0,    0,    1],\n",
       "       [   9,    1, 1816,    2,    0,    0,    0,    0,    0,    0],\n",
       "       [   6,    1,    1, 1789,    1,    0,    0,    3,    0,    0],\n",
       "       [   1,    0,    0,    1, 1776,    1,    1,    0,    1,    0],\n",
       "       [   0,    3,    0,   11,    6, 1806,    0,    0,    1,    0],\n",
       "       [   0,    0,    0,    1,    1,    0, 1821,    7,    0,    1],\n",
       "       [   3,    2,    2,   14,    0,    1,   36, 1739,    0,    0],\n",
       "       [   0,    0,    0,    0,    1,    0,    0,    0, 1800,    0],\n",
       "       [   2,    0,    1,    0,    2,    0,   25,    0,    5, 1723]])"
      ]
     },
     "execution_count": 38,
     "metadata": {},
     "output_type": "execute_result"
    }
   ],
   "source": [
    "from sklearn.metrics import confusion_matrix\n",
    "con = confusion_matrix(all_test_true,all_test_prediction)\n",
    "con"
   ]
  },
  {
   "cell_type": "markdown",
   "id": "b2e239e4",
   "metadata": {
    "papermill": {
     "duration": 0.170305,
     "end_time": "2022-08-17T03:43:51.942018",
     "exception": false,
     "start_time": "2022-08-17T03:43:51.771713",
     "status": "completed"
    },
    "tags": []
   },
   "source": [
    "# Predict on test csv"
   ]
  },
  {
   "cell_type": "code",
   "execution_count": 39,
   "id": "152f1284",
   "metadata": {
    "execution": {
     "iopub.execute_input": "2022-08-17T03:43:52.288509Z",
     "iopub.status.busy": "2022-08-17T03:43:52.287730Z",
     "iopub.status.idle": "2022-08-17T03:43:52.909346Z",
     "shell.execute_reply": "2022-08-17T03:43:52.908042Z"
    },
    "papermill": {
     "duration": 0.797908,
     "end_time": "2022-08-17T03:43:52.911946",
     "exception": false,
     "start_time": "2022-08-17T03:43:52.114038",
     "status": "completed"
    },
    "tags": []
   },
   "outputs": [
    {
     "data": {
      "text/plain": [
       "(5000, 785)"
      ]
     },
     "execution_count": 39,
     "metadata": {},
     "output_type": "execute_result"
    }
   ],
   "source": [
    "test_df = pd.read_csv('/kaggle/input/Kannada-MNIST/test.csv')\n",
    "test_df.shape"
   ]
  },
  {
   "cell_type": "code",
   "execution_count": 40,
   "id": "1b8e37d5",
   "metadata": {
    "execution": {
     "iopub.execute_input": "2022-08-17T03:43:53.260190Z",
     "iopub.status.busy": "2022-08-17T03:43:53.259403Z",
     "iopub.status.idle": "2022-08-17T03:43:53.278303Z",
     "shell.execute_reply": "2022-08-17T03:43:53.276933Z"
    },
    "papermill": {
     "duration": 0.193454,
     "end_time": "2022-08-17T03:43:53.281044",
     "exception": false,
     "start_time": "2022-08-17T03:43:53.087590",
     "status": "completed"
    },
    "tags": []
   },
   "outputs": [
    {
     "data": {
      "text/html": [
       "<div>\n",
       "<style scoped>\n",
       "    .dataframe tbody tr th:only-of-type {\n",
       "        vertical-align: middle;\n",
       "    }\n",
       "\n",
       "    .dataframe tbody tr th {\n",
       "        vertical-align: top;\n",
       "    }\n",
       "\n",
       "    .dataframe thead th {\n",
       "        text-align: right;\n",
       "    }\n",
       "</style>\n",
       "<table border=\"1\" class=\"dataframe\">\n",
       "  <thead>\n",
       "    <tr style=\"text-align: right;\">\n",
       "      <th></th>\n",
       "      <th>id</th>\n",
       "      <th>pixel0</th>\n",
       "      <th>pixel1</th>\n",
       "      <th>pixel2</th>\n",
       "      <th>pixel3</th>\n",
       "      <th>pixel4</th>\n",
       "      <th>pixel5</th>\n",
       "      <th>pixel6</th>\n",
       "      <th>pixel7</th>\n",
       "      <th>pixel8</th>\n",
       "      <th>...</th>\n",
       "      <th>pixel774</th>\n",
       "      <th>pixel775</th>\n",
       "      <th>pixel776</th>\n",
       "      <th>pixel777</th>\n",
       "      <th>pixel778</th>\n",
       "      <th>pixel779</th>\n",
       "      <th>pixel780</th>\n",
       "      <th>pixel781</th>\n",
       "      <th>pixel782</th>\n",
       "      <th>pixel783</th>\n",
       "    </tr>\n",
       "  </thead>\n",
       "  <tbody>\n",
       "    <tr>\n",
       "      <th>0</th>\n",
       "      <td>0</td>\n",
       "      <td>0</td>\n",
       "      <td>0</td>\n",
       "      <td>0</td>\n",
       "      <td>0</td>\n",
       "      <td>0</td>\n",
       "      <td>0</td>\n",
       "      <td>0</td>\n",
       "      <td>0</td>\n",
       "      <td>0</td>\n",
       "      <td>...</td>\n",
       "      <td>0</td>\n",
       "      <td>0</td>\n",
       "      <td>0</td>\n",
       "      <td>0</td>\n",
       "      <td>0</td>\n",
       "      <td>0</td>\n",
       "      <td>0</td>\n",
       "      <td>0</td>\n",
       "      <td>0</td>\n",
       "      <td>0</td>\n",
       "    </tr>\n",
       "    <tr>\n",
       "      <th>1</th>\n",
       "      <td>1</td>\n",
       "      <td>0</td>\n",
       "      <td>0</td>\n",
       "      <td>0</td>\n",
       "      <td>0</td>\n",
       "      <td>0</td>\n",
       "      <td>0</td>\n",
       "      <td>0</td>\n",
       "      <td>0</td>\n",
       "      <td>0</td>\n",
       "      <td>...</td>\n",
       "      <td>0</td>\n",
       "      <td>0</td>\n",
       "      <td>0</td>\n",
       "      <td>0</td>\n",
       "      <td>0</td>\n",
       "      <td>0</td>\n",
       "      <td>0</td>\n",
       "      <td>0</td>\n",
       "      <td>0</td>\n",
       "      <td>0</td>\n",
       "    </tr>\n",
       "    <tr>\n",
       "      <th>2</th>\n",
       "      <td>2</td>\n",
       "      <td>0</td>\n",
       "      <td>0</td>\n",
       "      <td>0</td>\n",
       "      <td>0</td>\n",
       "      <td>0</td>\n",
       "      <td>0</td>\n",
       "      <td>0</td>\n",
       "      <td>0</td>\n",
       "      <td>0</td>\n",
       "      <td>...</td>\n",
       "      <td>0</td>\n",
       "      <td>0</td>\n",
       "      <td>0</td>\n",
       "      <td>0</td>\n",
       "      <td>0</td>\n",
       "      <td>0</td>\n",
       "      <td>0</td>\n",
       "      <td>0</td>\n",
       "      <td>0</td>\n",
       "      <td>0</td>\n",
       "    </tr>\n",
       "    <tr>\n",
       "      <th>3</th>\n",
       "      <td>3</td>\n",
       "      <td>0</td>\n",
       "      <td>0</td>\n",
       "      <td>0</td>\n",
       "      <td>0</td>\n",
       "      <td>0</td>\n",
       "      <td>0</td>\n",
       "      <td>0</td>\n",
       "      <td>0</td>\n",
       "      <td>0</td>\n",
       "      <td>...</td>\n",
       "      <td>0</td>\n",
       "      <td>0</td>\n",
       "      <td>0</td>\n",
       "      <td>0</td>\n",
       "      <td>0</td>\n",
       "      <td>0</td>\n",
       "      <td>0</td>\n",
       "      <td>0</td>\n",
       "      <td>0</td>\n",
       "      <td>0</td>\n",
       "    </tr>\n",
       "    <tr>\n",
       "      <th>4</th>\n",
       "      <td>4</td>\n",
       "      <td>0</td>\n",
       "      <td>0</td>\n",
       "      <td>0</td>\n",
       "      <td>0</td>\n",
       "      <td>0</td>\n",
       "      <td>0</td>\n",
       "      <td>0</td>\n",
       "      <td>0</td>\n",
       "      <td>0</td>\n",
       "      <td>...</td>\n",
       "      <td>0</td>\n",
       "      <td>0</td>\n",
       "      <td>0</td>\n",
       "      <td>0</td>\n",
       "      <td>0</td>\n",
       "      <td>0</td>\n",
       "      <td>0</td>\n",
       "      <td>0</td>\n",
       "      <td>0</td>\n",
       "      <td>0</td>\n",
       "    </tr>\n",
       "  </tbody>\n",
       "</table>\n",
       "<p>5 rows × 785 columns</p>\n",
       "</div>"
      ],
      "text/plain": [
       "   id  pixel0  pixel1  pixel2  pixel3  pixel4  pixel5  pixel6  pixel7  pixel8  \\\n",
       "0   0       0       0       0       0       0       0       0       0       0   \n",
       "1   1       0       0       0       0       0       0       0       0       0   \n",
       "2   2       0       0       0       0       0       0       0       0       0   \n",
       "3   3       0       0       0       0       0       0       0       0       0   \n",
       "4   4       0       0       0       0       0       0       0       0       0   \n",
       "\n",
       "   ...  pixel774  pixel775  pixel776  pixel777  pixel778  pixel779  pixel780  \\\n",
       "0  ...         0         0         0         0         0         0         0   \n",
       "1  ...         0         0         0         0         0         0         0   \n",
       "2  ...         0         0         0         0         0         0         0   \n",
       "3  ...         0         0         0         0         0         0         0   \n",
       "4  ...         0         0         0         0         0         0         0   \n",
       "\n",
       "   pixel781  pixel782  pixel783  \n",
       "0         0         0         0  \n",
       "1         0         0         0  \n",
       "2         0         0         0  \n",
       "3         0         0         0  \n",
       "4         0         0         0  \n",
       "\n",
       "[5 rows x 785 columns]"
      ]
     },
     "execution_count": 40,
     "metadata": {},
     "output_type": "execute_result"
    }
   ],
   "source": [
    "test_df.head()"
   ]
  },
  {
   "cell_type": "code",
   "execution_count": 41,
   "id": "2213bdd5",
   "metadata": {
    "execution": {
     "iopub.execute_input": "2022-08-17T03:43:53.629032Z",
     "iopub.status.busy": "2022-08-17T03:43:53.628588Z",
     "iopub.status.idle": "2022-08-17T03:43:53.645776Z",
     "shell.execute_reply": "2022-08-17T03:43:53.644870Z"
    },
    "papermill": {
     "duration": 0.194753,
     "end_time": "2022-08-17T03:43:53.648263",
     "exception": false,
     "start_time": "2022-08-17T03:43:53.453510",
     "status": "completed"
    },
    "tags": []
   },
   "outputs": [
    {
     "data": {
      "text/html": [
       "<div>\n",
       "<style scoped>\n",
       "    .dataframe tbody tr th:only-of-type {\n",
       "        vertical-align: middle;\n",
       "    }\n",
       "\n",
       "    .dataframe tbody tr th {\n",
       "        vertical-align: top;\n",
       "    }\n",
       "\n",
       "    .dataframe thead th {\n",
       "        text-align: right;\n",
       "    }\n",
       "</style>\n",
       "<table border=\"1\" class=\"dataframe\">\n",
       "  <thead>\n",
       "    <tr style=\"text-align: right;\">\n",
       "      <th></th>\n",
       "      <th>id</th>\n",
       "    </tr>\n",
       "  </thead>\n",
       "  <tbody>\n",
       "    <tr>\n",
       "      <th>0</th>\n",
       "      <td>0</td>\n",
       "    </tr>\n",
       "    <tr>\n",
       "      <th>1</th>\n",
       "      <td>1</td>\n",
       "    </tr>\n",
       "    <tr>\n",
       "      <th>2</th>\n",
       "      <td>2</td>\n",
       "    </tr>\n",
       "    <tr>\n",
       "      <th>3</th>\n",
       "      <td>3</td>\n",
       "    </tr>\n",
       "    <tr>\n",
       "      <th>4</th>\n",
       "      <td>4</td>\n",
       "    </tr>\n",
       "    <tr>\n",
       "      <th>...</th>\n",
       "      <td>...</td>\n",
       "    </tr>\n",
       "    <tr>\n",
       "      <th>4995</th>\n",
       "      <td>4995</td>\n",
       "    </tr>\n",
       "    <tr>\n",
       "      <th>4996</th>\n",
       "      <td>4996</td>\n",
       "    </tr>\n",
       "    <tr>\n",
       "      <th>4997</th>\n",
       "      <td>4997</td>\n",
       "    </tr>\n",
       "    <tr>\n",
       "      <th>4998</th>\n",
       "      <td>4998</td>\n",
       "    </tr>\n",
       "    <tr>\n",
       "      <th>4999</th>\n",
       "      <td>4999</td>\n",
       "    </tr>\n",
       "  </tbody>\n",
       "</table>\n",
       "<p>5000 rows × 1 columns</p>\n",
       "</div>"
      ],
      "text/plain": [
       "        id\n",
       "0        0\n",
       "1        1\n",
       "2        2\n",
       "3        3\n",
       "4        4\n",
       "...    ...\n",
       "4995  4995\n",
       "4996  4996\n",
       "4997  4997\n",
       "4998  4998\n",
       "4999  4999\n",
       "\n",
       "[5000 rows x 1 columns]"
      ]
     },
     "execution_count": 41,
     "metadata": {},
     "output_type": "execute_result"
    }
   ],
   "source": [
    "result_df = test_df[['id']]\n",
    "result_df"
   ]
  },
  {
   "cell_type": "code",
   "execution_count": 42,
   "id": "8b2a7f28",
   "metadata": {
    "execution": {
     "iopub.execute_input": "2022-08-17T03:43:54.065359Z",
     "iopub.status.busy": "2022-08-17T03:43:54.064047Z",
     "iopub.status.idle": "2022-08-17T03:43:54.072395Z",
     "shell.execute_reply": "2022-08-17T03:43:54.071161Z"
    },
    "papermill": {
     "duration": 0.253999,
     "end_time": "2022-08-17T03:43:54.075178",
     "exception": false,
     "start_time": "2022-08-17T03:43:53.821179",
     "status": "completed"
    },
    "tags": []
   },
   "outputs": [
    {
     "data": {
      "text/plain": [
       "(5000, 784)"
      ]
     },
     "execution_count": 42,
     "metadata": {},
     "output_type": "execute_result"
    }
   ],
   "source": [
    "test_df= test_df.iloc[:,1:]\n",
    "test_df.shape"
   ]
  },
  {
   "cell_type": "code",
   "execution_count": 43,
   "id": "4da347f9",
   "metadata": {
    "execution": {
     "iopub.execute_input": "2022-08-17T03:43:54.422541Z",
     "iopub.status.busy": "2022-08-17T03:43:54.421798Z",
     "iopub.status.idle": "2022-08-17T03:43:54.429615Z",
     "shell.execute_reply": "2022-08-17T03:43:54.428321Z"
    },
    "papermill": {
     "duration": 0.182477,
     "end_time": "2022-08-17T03:43:54.433005",
     "exception": false,
     "start_time": "2022-08-17T03:43:54.250528",
     "status": "completed"
    },
    "tags": []
   },
   "outputs": [
    {
     "data": {
      "text/plain": [
       "(5000, 784)"
      ]
     },
     "execution_count": 43,
     "metadata": {},
     "output_type": "execute_result"
    }
   ],
   "source": [
    "test_df_numpy = test_df.to_numpy()\n",
    "test_df_numpy.shape"
   ]
  },
  {
   "cell_type": "code",
   "execution_count": 44,
   "id": "c1129fe3",
   "metadata": {
    "execution": {
     "iopub.execute_input": "2022-08-17T03:43:54.774949Z",
     "iopub.status.busy": "2022-08-17T03:43:54.774541Z",
     "iopub.status.idle": "2022-08-17T03:43:54.798401Z",
     "shell.execute_reply": "2022-08-17T03:43:54.797445Z"
    },
    "papermill": {
     "duration": 0.198621,
     "end_time": "2022-08-17T03:43:54.801251",
     "exception": false,
     "start_time": "2022-08-17T03:43:54.602630",
     "status": "completed"
    },
    "tags": []
   },
   "outputs": [
    {
     "data": {
      "text/plain": [
       "(5000, 784)"
      ]
     },
     "execution_count": 44,
     "metadata": {},
     "output_type": "execute_result"
    }
   ],
   "source": [
    "normalized_test_df_numpy = normalize(test_df_numpy)\n",
    "normalized_test_df_numpy.shape"
   ]
  },
  {
   "cell_type": "code",
   "execution_count": 45,
   "id": "3196f54a",
   "metadata": {
    "execution": {
     "iopub.execute_input": "2022-08-17T03:43:55.147712Z",
     "iopub.status.busy": "2022-08-17T03:43:55.147265Z",
     "iopub.status.idle": "2022-08-17T03:43:55.155916Z",
     "shell.execute_reply": "2022-08-17T03:43:55.154527Z"
    },
    "papermill": {
     "duration": 0.186874,
     "end_time": "2022-08-17T03:43:55.158653",
     "exception": false,
     "start_time": "2022-08-17T03:43:54.971779",
     "status": "completed"
    },
    "tags": []
   },
   "outputs": [
    {
     "data": {
      "text/plain": [
       "(5000, 28, 28)"
      ]
     },
     "execution_count": 45,
     "metadata": {},
     "output_type": "execute_result"
    }
   ],
   "source": [
    "reshaped_normalized_test_df_numpy = normalized_test_df_numpy.reshape(normalized_test_df_numpy.shape[0],28,28)\n",
    "reshaped_normalized_test_df_numpy.shape"
   ]
  },
  {
   "cell_type": "code",
   "execution_count": 46,
   "id": "311f4445",
   "metadata": {
    "execution": {
     "iopub.execute_input": "2022-08-17T03:43:55.508739Z",
     "iopub.status.busy": "2022-08-17T03:43:55.508295Z",
     "iopub.status.idle": "2022-08-17T03:43:55.516277Z",
     "shell.execute_reply": "2022-08-17T03:43:55.515125Z"
    },
    "papermill": {
     "duration": 0.187266,
     "end_time": "2022-08-17T03:43:55.518725",
     "exception": false,
     "start_time": "2022-08-17T03:43:55.331459",
     "status": "completed"
    },
    "tags": []
   },
   "outputs": [
    {
     "data": {
      "text/plain": [
       "(5000, 28, 28, 1)"
      ]
     },
     "execution_count": 46,
     "metadata": {},
     "output_type": "execute_result"
    }
   ],
   "source": [
    "reshaped_normalized_test_df_numpy_for_cnn = reshaped_normalized_test_df_numpy.reshape(reshaped_normalized_test_df_numpy.shape[0],28,28,1)\n",
    "reshaped_normalized_test_df_numpy_for_cnn.shape"
   ]
  },
  {
   "cell_type": "code",
   "execution_count": 47,
   "id": "50b9f2e9",
   "metadata": {
    "execution": {
     "iopub.execute_input": "2022-08-17T03:43:55.866233Z",
     "iopub.status.busy": "2022-08-17T03:43:55.865780Z",
     "iopub.status.idle": "2022-08-17T03:43:56.564684Z",
     "shell.execute_reply": "2022-08-17T03:43:56.563437Z"
    },
    "papermill": {
     "duration": 0.877651,
     "end_time": "2022-08-17T03:43:56.567783",
     "exception": false,
     "start_time": "2022-08-17T03:43:55.690132",
     "status": "completed"
    },
    "tags": []
   },
   "outputs": [],
   "source": [
    "test_csv_prediction = model.predict(reshaped_normalized_test_df_numpy_for_cnn)"
   ]
  },
  {
   "cell_type": "code",
   "execution_count": 48,
   "id": "a11e5af9",
   "metadata": {
    "execution": {
     "iopub.execute_input": "2022-08-17T03:43:56.912628Z",
     "iopub.status.busy": "2022-08-17T03:43:56.911881Z",
     "iopub.status.idle": "2022-08-17T03:43:56.918721Z",
     "shell.execute_reply": "2022-08-17T03:43:56.917635Z"
    },
    "papermill": {
     "duration": 0.180916,
     "end_time": "2022-08-17T03:43:56.921043",
     "exception": false,
     "start_time": "2022-08-17T03:43:56.740127",
     "status": "completed"
    },
    "tags": []
   },
   "outputs": [
    {
     "data": {
      "text/plain": [
       "array([[5.2265180e-12, 4.5137390e-15, 9.5887924e-12, ..., 1.5335155e-11,\n",
       "        3.3646836e-21, 1.2139478e-16],\n",
       "       [9.9999678e-01, 3.0524786e-06, 6.6585765e-10, ..., 8.4927487e-14,\n",
       "        8.3247933e-08, 1.6223380e-11],\n",
       "       [2.2501308e-17, 4.4620772e-20, 1.0000000e+00, ..., 4.5022917e-20,\n",
       "        2.8227270e-17, 2.6659720e-21],\n",
       "       ...,\n",
       "       [5.5984260e-06, 9.9999440e-01, 1.3163632e-17, ..., 3.9143205e-14,\n",
       "        1.3417548e-14, 2.5861601e-23],\n",
       "       [1.5164765e-14, 8.4326008e-17, 3.0692517e-13, ..., 2.1283743e-07,\n",
       "        1.4544412e-15, 7.4850037e-10],\n",
       "       [1.1847699e-10, 2.6458983e-12, 3.6025766e-10, ..., 4.3479426e-13,\n",
       "        1.1860789e-18, 1.9422555e-13]], dtype=float32)"
      ]
     },
     "execution_count": 48,
     "metadata": {},
     "output_type": "execute_result"
    }
   ],
   "source": [
    "test_csv_prediction"
   ]
  },
  {
   "cell_type": "code",
   "execution_count": 49,
   "id": "582f97be",
   "metadata": {
    "execution": {
     "iopub.execute_input": "2022-08-17T03:43:57.275521Z",
     "iopub.status.busy": "2022-08-17T03:43:57.274589Z",
     "iopub.status.idle": "2022-08-17T03:43:57.282690Z",
     "shell.execute_reply": "2022-08-17T03:43:57.281647Z"
    },
    "papermill": {
     "duration": 0.195133,
     "end_time": "2022-08-17T03:43:57.284997",
     "exception": false,
     "start_time": "2022-08-17T03:43:57.089864",
     "status": "completed"
    },
    "tags": []
   },
   "outputs": [
    {
     "data": {
      "text/plain": [
       "(5000,)"
      ]
     },
     "execution_count": 49,
     "metadata": {},
     "output_type": "execute_result"
    }
   ],
   "source": [
    "final_test_csv_prediction =test_csv_prediction.argmax(axis=1)\n",
    "final_test_csv_prediction.shape"
   ]
  },
  {
   "cell_type": "code",
   "execution_count": 50,
   "id": "ebf6045c",
   "metadata": {
    "execution": {
     "iopub.execute_input": "2022-08-17T03:43:57.694576Z",
     "iopub.status.busy": "2022-08-17T03:43:57.693892Z",
     "iopub.status.idle": "2022-08-17T03:43:57.701098Z",
     "shell.execute_reply": "2022-08-17T03:43:57.699992Z"
    },
    "papermill": {
     "duration": 0.184418,
     "end_time": "2022-08-17T03:43:57.703370",
     "exception": false,
     "start_time": "2022-08-17T03:43:57.518952",
     "status": "completed"
    },
    "tags": []
   },
   "outputs": [
    {
     "data": {
      "text/plain": [
       "array([3, 0, 2, ..., 1, 6, 3])"
      ]
     },
     "execution_count": 50,
     "metadata": {},
     "output_type": "execute_result"
    }
   ],
   "source": [
    "final_test_csv_prediction"
   ]
  },
  {
   "cell_type": "code",
   "execution_count": 51,
   "id": "844d9f81",
   "metadata": {
    "execution": {
     "iopub.execute_input": "2022-08-17T03:43:58.045294Z",
     "iopub.status.busy": "2022-08-17T03:43:58.044350Z",
     "iopub.status.idle": "2022-08-17T03:43:58.052243Z",
     "shell.execute_reply": "2022-08-17T03:43:58.051153Z"
    },
    "papermill": {
     "duration": 0.181769,
     "end_time": "2022-08-17T03:43:58.054684",
     "exception": false,
     "start_time": "2022-08-17T03:43:57.872915",
     "status": "completed"
    },
    "tags": []
   },
   "outputs": [],
   "source": [
    "result_df ['label'] = final_test_csv_prediction"
   ]
  },
  {
   "cell_type": "code",
   "execution_count": 52,
   "id": "a43fd0ed",
   "metadata": {
    "execution": {
     "iopub.execute_input": "2022-08-17T03:43:58.397923Z",
     "iopub.status.busy": "2022-08-17T03:43:58.397082Z",
     "iopub.status.idle": "2022-08-17T03:43:58.410282Z",
     "shell.execute_reply": "2022-08-17T03:43:58.409315Z"
    },
    "papermill": {
     "duration": 0.188266,
     "end_time": "2022-08-17T03:43:58.412908",
     "exception": false,
     "start_time": "2022-08-17T03:43:58.224642",
     "status": "completed"
    },
    "tags": []
   },
   "outputs": [],
   "source": [
    "result_df.to_csv('submission.csv',index=False)"
   ]
  }
 ],
 "metadata": {
  "kernelspec": {
   "display_name": "Python 3",
   "language": "python",
   "name": "python3"
  },
  "language_info": {
   "codemirror_mode": {
    "name": "ipython",
    "version": 3
   },
   "file_extension": ".py",
   "mimetype": "text/x-python",
   "name": "python",
   "nbconvert_exporter": "python",
   "pygments_lexer": "ipython3",
   "version": "3.7.12"
  },
  "papermill": {
   "default_parameters": {},
   "duration": 184.542799,
   "end_time": "2022-08-17T03:44:01.470285",
   "environment_variables": {},
   "exception": null,
   "input_path": "__notebook__.ipynb",
   "output_path": "__notebook__.ipynb",
   "parameters": {},
   "start_time": "2022-08-17T03:40:56.927486",
   "version": "2.3.4"
  }
 },
 "nbformat": 4,
 "nbformat_minor": 5
}
